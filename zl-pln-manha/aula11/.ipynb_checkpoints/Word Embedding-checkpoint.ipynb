{
 "cells": [
  {
   "cell_type": "code",
   "execution_count": 1,
   "id": "13756a9a-cb20-4b83-bf65-e0464a5ee98b",
   "metadata": {},
   "outputs": [
    {
     "name": "stdout",
     "output_type": "stream",
     "text": [
      "Defaulting to user installation because normal site-packages is not writeable\n",
      "Looking in indexes: https://pypi.org/simple, https://pypi.ngc.nvidia.com\n",
      "Requirement already satisfied: gensim in c:\\programdata\\anaconda3\\lib\\site-packages (4.3.3)\n",
      "Requirement already satisfied: numpy<2.0,>=1.18.5 in c:\\programdata\\anaconda3\\lib\\site-packages (from gensim) (1.26.4)\n",
      "Requirement already satisfied: scipy<1.14.0,>=1.7.0 in c:\\programdata\\anaconda3\\lib\\site-packages (from gensim) (1.13.1)\n",
      "Requirement already satisfied: smart-open>=1.8.1 in c:\\programdata\\anaconda3\\lib\\site-packages (from gensim) (5.2.1)\n"
     ]
    }
   ],
   "source": [
    "!python -m pip install gensim"
   ]
  },
  {
   "cell_type": "code",
   "execution_count": 5,
   "id": "ee25ec5a-2f0c-446c-bdc9-83fe3c7a2436",
   "metadata": {},
   "outputs": [],
   "source": [
    "from gensim.models import Word2Vec, KeyedVectors"
   ]
  },
  {
   "cell_type": "code",
   "execution_count": 7,
   "id": "7c7d6338-1e7d-4cda-acbb-80071029bdae",
   "metadata": {},
   "outputs": [],
   "source": [
    "modelo = KeyedVectors.load_word2vec_format(\"C:\\\\git\\\\dados\\\\skip_s100\\\\skip_s100.txt\")"
   ]
  },
  {
   "cell_type": "code",
   "execution_count": 17,
   "id": "996e9ecb-a10f-4852-9ac8-143a1b2cb14c",
   "metadata": {},
   "outputs": [
    {
     "name": "stdout",
     "output_type": "stream",
     "text": [
      "[-0.164461 -0.014363  0.124512 -0.303955  0.160792 -0.032028 -0.048507\n",
      " -0.034208  0.107088 -0.093499  0.349632 -0.087973 -0.101196  0.054815\n",
      "  0.237671 -0.061357  0.264327  0.298272 -0.024176  0.389583  0.065943\n",
      "  0.054307  0.106118  0.23514   0.078463  0.282537 -0.150036 -0.006788\n",
      "  0.051575  0.083578  0.242771 -0.223759 -0.146031 -0.159297  0.287694\n",
      " -0.083225 -0.158965 -0.046706 -0.039911  0.224569  0.168114  0.083644\n",
      "  0.137285  0.020159  0.088486 -0.141225  0.265956  0.023687  0.166814\n",
      "  0.052159 -0.223885 -0.215677  0.429719  0.225931  0.125467  0.116944\n",
      " -0.012855 -0.188196 -0.008294  0.582053  0.032072  0.036928  0.016363\n",
      " -0.003704 -0.225326  0.073739  0.432913  0.521782 -0.073163  0.16542\n",
      "  0.003852  0.422371  0.14309  -0.079214  0.112097 -0.142931  0.104638\n",
      "  0.324669 -0.213694 -0.496184  0.051481  0.218193 -0.048533 -0.069502\n",
      " -0.037793 -0.303088  0.215114 -0.083878 -0.049161  0.013102 -0.164921\n",
      " -0.024278 -0.138655 -0.295473 -0.355548 -0.032664  0.310142 -0.054391\n",
      "  0.226432  0.079264]\n"
     ]
    }
   ],
   "source": [
    "try:\n",
    "    print(modelo[\"gato\"])\n",
    "except KeyError as err:\n",
    "    print(\"Palavra não encontrada\")"
   ]
  },
  {
   "cell_type": "code",
   "execution_count": 33,
   "id": "1bb5f310-82e1-4272-aeb6-578d0af654ce",
   "metadata": {},
   "outputs": [
    {
     "data": {
      "text/plain": [
       "0.68251646"
      ]
     },
     "execution_count": 33,
     "metadata": {},
     "output_type": "execute_result"
    }
   ],
   "source": [
    "modelo.similarity(\"carro\", \"pedestre\")"
   ]
  },
  {
   "cell_type": "code",
   "execution_count": 35,
   "id": "48bebf40-cf35-47aa-97f1-840e6e3597dd",
   "metadata": {},
   "outputs": [
    {
     "data": {
      "text/plain": [
       "[('veículo', 0.9269594550132751),\n",
       " ('caminhão', 0.8951947689056396),\n",
       " ('passageiro', 0.8498534560203552),\n",
       " ('jipe', 0.8236057758331299),\n",
       " ('motorista', 0.8194946646690369),\n",
       " ('trator', 0.8144297003746033),\n",
       " ('furgão', 0.8051446676254272),\n",
       " ('táxi', 0.7928332090377808),\n",
       " ('motociclista', 0.7739293575286865),\n",
       " ('ciclomotor', 0.770149827003479)]"
      ]
     },
     "execution_count": 35,
     "metadata": {},
     "output_type": "execute_result"
    }
   ],
   "source": [
    "modelo.most_similar(\"carro\")"
   ]
  },
  {
   "cell_type": "code",
   "execution_count": 39,
   "id": "10bc8eb1-c78d-4a88-9574-4a64e2f78f34",
   "metadata": {},
   "outputs": [
    {
     "data": {
      "text/plain": [
       "'xicara'"
      ]
     },
     "execution_count": 39,
     "metadata": {},
     "output_type": "execute_result"
    }
   ],
   "source": [
    "modelo.doesnt_match([\"banana\", \"manga\", \"pêra\", \"laranja\", \"xicara\"])"
   ]
  },
  {
   "cell_type": "code",
   "execution_count": 49,
   "id": "bae99537-13e1-4f46-87aa-3eec68ebebde",
   "metadata": {},
   "outputs": [
    {
     "data": {
      "text/plain": [
       "[('rainha-consorte', 0.8243916034698486),\n",
       " ('primogénita', 0.8096219301223755),\n",
       " ('imperatriz-mãe', 0.7968856692314148),\n",
       " ('consorte', 0.7874205708503723),\n",
       " ('paleóloga', 0.779080867767334),\n",
       " ('ranavalona', 0.7697462439537048),\n",
       " ('piroska', 0.7684454321861267),\n",
       " ('rainha', 0.7652576565742493),\n",
       " ('princesa-eleitora', 0.7640146017074585),\n",
       " ('oto', 0.7639181017875671)]"
      ]
     },
     "execution_count": 49,
     "metadata": {},
     "output_type": "execute_result"
    }
   ],
   "source": [
    "vetor = modelo[\"rei\"] - modelo[\"homem\"] + modelo[\"mulher\"]\n",
    "modelo.most_similar( vetor )"
   ]
  },
  {
   "cell_type": "code",
   "execution_count": 53,
   "id": "438e83fd-5f56-4837-b8fa-4e28db3ddba6",
   "metadata": {},
   "outputs": [
    {
     "data": {
      "text/plain": [
       "[('cndh', 0.6201480031013489),\n",
       " ('veterinario', 0.6062109470367432),\n",
       " ('siniavski', 0.5384631752967834),\n",
       " ('comissãodos', 0.5364950299263),\n",
       " ('humanos(osdh', 0.5362699627876282),\n",
       " ('ngodrup', 0.5361901521682739),\n",
       " ('cdpm', 0.5316141247749329),\n",
       " ('iccpr', 0.5314593315124512),\n",
       " ('vasak', 0.5287778377532959),\n",
       " ('cftc', 0.5282390117645264)]"
      ]
     },
     "execution_count": 53,
     "metadata": {},
     "output_type": "execute_result"
    }
   ],
   "source": [
    "vetor = modelo[\"veterinario\"] - modelo[\"cachorro\"] + modelo[\"homem\"] \n",
    "modelo.most_similar( vetor )"
   ]
  },
  {
   "cell_type": "code",
   "execution_count": null,
   "id": "93810d3c-2b35-47c7-bf00-c8f1605918e8",
   "metadata": {},
   "outputs": [],
   "source": []
  }
 ],
 "metadata": {
  "kernelspec": {
   "display_name": "Python [conda env:base] *",
   "language": "python",
   "name": "conda-base-py"
  },
  "language_info": {
   "codemirror_mode": {
    "name": "ipython",
    "version": 3
   },
   "file_extension": ".py",
   "mimetype": "text/x-python",
   "name": "python",
   "nbconvert_exporter": "python",
   "pygments_lexer": "ipython3",
   "version": "3.12.7"
  }
 },
 "nbformat": 4,
 "nbformat_minor": 5
}
