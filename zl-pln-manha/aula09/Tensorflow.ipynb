{
 "cells": [
  {
   "cell_type": "code",
   "execution_count": 1,
   "id": "feb190f6-f95c-4aa4-bb36-a12e755b067d",
   "metadata": {},
   "outputs": [],
   "source": [
    "import tensorflow as tf"
   ]
  },
  {
   "cell_type": "code",
   "execution_count": 5,
   "id": "9cc9cde1-bbf0-4c64-93c3-e396c1e6643d",
   "metadata": {},
   "outputs": [],
   "source": [
    "c1 = tf.constant( 100 )"
   ]
  },
  {
   "cell_type": "code",
   "execution_count": 11,
   "id": "a9536685-9c4e-46bd-9041-9b671ca2361e",
   "metadata": {},
   "outputs": [
    {
     "data": {
      "text/plain": [
       "TensorShape([])"
      ]
     },
     "execution_count": 11,
     "metadata": {},
     "output_type": "execute_result"
    }
   ],
   "source": [
    "c1.shape"
   ]
  },
  {
   "cell_type": "code",
   "execution_count": 19,
   "id": "9c1e6407-2cc7-4c27-a323-d16740103347",
   "metadata": {},
   "outputs": [
    {
     "data": {
      "text/plain": [
       "<tf.Tensor: shape=(), dtype=int32, numpy=100>"
      ]
     },
     "execution_count": 19,
     "metadata": {},
     "output_type": "execute_result"
    }
   ],
   "source": [
    "c1"
   ]
  },
  {
   "cell_type": "code",
   "execution_count": 39,
   "id": "f8a2776d-a832-4076-9286-fca7048181ae",
   "metadata": {},
   "outputs": [],
   "source": [
    "v1 = tf.Variable( 50, name=\"V1\" )"
   ]
  },
  {
   "cell_type": "code",
   "execution_count": 41,
   "id": "ca5da051-1829-47c2-b2f6-9d0330591cef",
   "metadata": {},
   "outputs": [
    {
     "data": {
      "text/plain": [
       "<tf.Variable 'V1:0' shape=() dtype=int32, numpy=50>"
      ]
     },
     "execution_count": 41,
     "metadata": {},
     "output_type": "execute_result"
    }
   ],
   "source": [
    "v1"
   ]
  },
  {
   "cell_type": "code",
   "execution_count": 33,
   "id": "5333c7dd-3864-4e55-ba85-f3bc65190442",
   "metadata": {},
   "outputs": [
    {
     "data": {
      "text/plain": [
       "tf.int32"
      ]
     },
     "execution_count": 33,
     "metadata": {},
     "output_type": "execute_result"
    }
   ],
   "source": [
    "v1.dtype"
   ]
  },
  {
   "cell_type": "code",
   "execution_count": 37,
   "id": "b7f6e80e-9d57-4c25-89b1-4b3028951ba3",
   "metadata": {},
   "outputs": [
    {
     "data": {
      "text/plain": [
       "<bound method BaseResourceVariable.numpy of <tf.Variable 'Variable:0' shape=() dtype=int32, numpy=50>>"
      ]
     },
     "execution_count": 37,
     "metadata": {},
     "output_type": "execute_result"
    }
   ],
   "source": [
    "v1.numpy"
   ]
  },
  {
   "cell_type": "code",
   "execution_count": null,
   "id": "3f10a588-1c02-4adc-9277-20f38b8c213a",
   "metadata": {},
   "outputs": [],
   "source": []
  }
 ],
 "metadata": {
  "kernelspec": {
   "display_name": "Python [conda env:base] *",
   "language": "python",
   "name": "conda-base-py"
  },
  "language_info": {
   "codemirror_mode": {
    "name": "ipython",
    "version": 3
   },
   "file_extension": ".py",
   "mimetype": "text/x-python",
   "name": "python",
   "nbconvert_exporter": "python",
   "pygments_lexer": "ipython3",
   "version": "3.12.7"
  }
 },
 "nbformat": 4,
 "nbformat_minor": 5
}
