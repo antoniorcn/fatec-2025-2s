{
 "cells": [
  {
   "cell_type": "code",
   "execution_count": 3,
   "id": "9483f17c-7e43-4188-b795-e85862d0bd28",
   "metadata": {},
   "outputs": [],
   "source": [
    "import numpy as np"
   ]
  },
  {
   "cell_type": "code",
   "execution_count": 7,
   "id": "5a64acb2-a520-43d6-834d-282cc18f1749",
   "metadata": {},
   "outputs": [
    {
     "name": "stdout",
     "output_type": "stream",
     "text": [
      "[10, 20, 30]\n",
      "[10 20 30 40 50 60 70]\n"
     ]
    }
   ],
   "source": [
    "lista_numeros = [10, 20, 30]\n",
    "print(lista_numeros)\n",
    "\n",
    "vetor_numeros = np.array( [10, 20, 30, 40, 50, 60, 70] )\n",
    "print(vetor_numeros)"
   ]
  },
  {
   "cell_type": "code",
   "execution_count": null,
   "id": "c24674c1-b0ac-4fa0-96c3-cdc9168fa027",
   "metadata": {},
   "outputs": [],
   "source": [
    "# 20000 + 4 * 6 = 20024"
   ]
  },
  {
   "cell_type": "code",
   "execution_count": 9,
   "id": "40c28c4a-96ff-4ed4-bfb4-7d66ec11e83b",
   "metadata": {},
   "outputs": [],
   "source": [
    "vetor_numeros[1] = 25"
   ]
  },
  {
   "cell_type": "code",
   "execution_count": 11,
   "id": "0897745c-1579-4974-8fd2-5aff3631dfaa",
   "metadata": {},
   "outputs": [
    {
     "data": {
      "text/plain": [
       "array([10, 25, 30, 40, 50, 60, 70])"
      ]
     },
     "execution_count": 11,
     "metadata": {},
     "output_type": "execute_result"
    }
   ],
   "source": [
    "vetor_numeros"
   ]
  },
  {
   "cell_type": "code",
   "execution_count": 29,
   "id": "e3302823-de48-447f-8eb0-d8dee8dcd0b9",
   "metadata": {},
   "outputs": [
    {
     "data": {
      "text/plain": [
       "array([ 20,  50,  60,  80, 100, 120, 140])"
      ]
     },
     "execution_count": 29,
     "metadata": {},
     "output_type": "execute_result"
    }
   ],
   "source": [
    "# [10, 25, 30, 40, 50, 60, 70] + [10, 25, 30, 40, 50, 60, 70]\n",
    "vetor_numeros + vetor_numeros"
   ]
  },
  {
   "cell_type": "code",
   "execution_count": 27,
   "id": "cdc376d0-eff5-48ec-a521-b5f809e982d3",
   "metadata": {},
   "outputs": [
    {
     "ename": "TypeError",
     "evalue": "only integer scalar arrays can be converted to a scalar index",
     "output_type": "error",
     "traceback": [
      "\u001b[1;31m---------------------------------------------------------------------------\u001b[0m",
      "\u001b[1;31mTypeError\u001b[0m                                 Traceback (most recent call last)",
      "Cell \u001b[1;32mIn[27], line 1\u001b[0m\n\u001b[1;32m----> 1\u001b[0m np\u001b[38;5;241m.\u001b[39mconcatenate( vetor_numeros, vetor_numeros)\n",
      "\u001b[1;31mTypeError\u001b[0m: only integer scalar arrays can be converted to a scalar index"
     ]
    }
   ],
   "source": [
    "np.concatenate( vetor_numeros, vetor_numeros)"
   ]
  },
  {
   "cell_type": "code",
   "execution_count": 31,
   "id": "d6b13294-5f66-44ce-87d9-ab210f40054c",
   "metadata": {},
   "outputs": [
    {
     "data": {
      "text/plain": [
       "array([ 70, 175, 210, 280, 350, 420, 490])"
      ]
     },
     "execution_count": 31,
     "metadata": {},
     "output_type": "execute_result"
    }
   ],
   "source": [
    "vetor_numeros * 7"
   ]
  },
  {
   "cell_type": "code",
   "execution_count": 33,
   "id": "c23cec13-4973-4427-bce8-cc74f09f82ac",
   "metadata": {},
   "outputs": [
    {
     "data": {
      "text/plain": [
       "dtype('int32')"
      ]
     },
     "execution_count": 33,
     "metadata": {},
     "output_type": "execute_result"
    }
   ],
   "source": [
    "vetor_numeros.dtype"
   ]
  },
  {
   "cell_type": "code",
   "execution_count": 35,
   "id": "7a75fe01-0c81-466e-9f6f-457974d4f4b5",
   "metadata": {},
   "outputs": [],
   "source": [
    "vetor_numeros[1] = 25.6"
   ]
  },
  {
   "cell_type": "code",
   "execution_count": 41,
   "id": "0e4af5a4-99fa-4234-8729-53cecc68c368",
   "metadata": {},
   "outputs": [],
   "source": [
    "outor_vetor = vetor_numeros.astype(np.float32)"
   ]
  },
  {
   "cell_type": "code",
   "execution_count": 43,
   "id": "bfc98679-86c2-4e42-b65a-8804cd7afe5c",
   "metadata": {},
   "outputs": [
    {
     "data": {
      "text/plain": [
       "array([10., 25., 30., 40., 50., 60., 70.], dtype=float32)"
      ]
     },
     "execution_count": 43,
     "metadata": {},
     "output_type": "execute_result"
    }
   ],
   "source": [
    "outor_vetor"
   ]
  },
  {
   "cell_type": "code",
   "execution_count": 49,
   "id": "4b453ed1-e358-4ff9-a2af-e588cf3cb0e5",
   "metadata": {},
   "outputs": [],
   "source": [
    "outor_vetor[1] = 35.6"
   ]
  },
  {
   "cell_type": "code",
   "execution_count": 51,
   "id": "c618cf09-d823-48f4-b635-73ce6a5eeb7e",
   "metadata": {},
   "outputs": [
    {
     "data": {
      "text/plain": [
       "array([10. , 35.6, 30. , 40. , 50. , 60. , 70. ], dtype=float32)"
      ]
     },
     "execution_count": 51,
     "metadata": {},
     "output_type": "execute_result"
    }
   ],
   "source": [
    "outor_vetor"
   ]
  },
  {
   "cell_type": "code",
   "execution_count": 53,
   "id": "62d0016b-974c-41e9-9852-dbb197fdbcda",
   "metadata": {},
   "outputs": [
    {
     "data": {
      "text/plain": [
       "array([10, 25, 30, 40, 50, 60, 70])"
      ]
     },
     "execution_count": 53,
     "metadata": {},
     "output_type": "execute_result"
    }
   ],
   "source": [
    "vetor_numeros"
   ]
  },
  {
   "cell_type": "code",
   "execution_count": 57,
   "id": "a544f82e-f2e3-41b7-96cc-e280983f69c4",
   "metadata": {},
   "outputs": [
    {
     "data": {
      "text/plain": [
       "dtype('int32')"
      ]
     },
     "execution_count": 57,
     "metadata": {},
     "output_type": "execute_result"
    }
   ],
   "source": [
    "vetor_numeros.dtype"
   ]
  },
  {
   "cell_type": "code",
   "execution_count": 59,
   "id": "0f36ce60-0ad3-4216-885b-31d65154e4ec",
   "metadata": {},
   "outputs": [
    {
     "data": {
      "text/plain": [
       "1"
      ]
     },
     "execution_count": 59,
     "metadata": {},
     "output_type": "execute_result"
    }
   ],
   "source": [
    "vetor_numeros.ndim"
   ]
  },
  {
   "cell_type": "code",
   "execution_count": 61,
   "id": "7b326da9-ffe6-4bcb-a89f-8c8f43e390b6",
   "metadata": {},
   "outputs": [
    {
     "data": {
      "text/plain": [
       "(7,)"
      ]
     },
     "execution_count": 61,
     "metadata": {},
     "output_type": "execute_result"
    }
   ],
   "source": [
    "vetor_numeros.shape"
   ]
  },
  {
   "cell_type": "code",
   "execution_count": 75,
   "id": "e5c0a09e-70d8-468c-be64-0c9adfd91e06",
   "metadata": {},
   "outputs": [],
   "source": [
    "matriz1 = np.array( [ [10, 20], [40, 50], [60, 70] ], dtype=np.float32)"
   ]
  },
  {
   "cell_type": "code",
   "execution_count": 77,
   "id": "c24c6297-35d4-4edf-be6f-152f7404e0a4",
   "metadata": {},
   "outputs": [
    {
     "data": {
      "text/plain": [
       "dtype('float32')"
      ]
     },
     "execution_count": 77,
     "metadata": {},
     "output_type": "execute_result"
    }
   ],
   "source": [
    "matriz1.dtype"
   ]
  },
  {
   "cell_type": "code",
   "execution_count": 79,
   "id": "dae60cab-abc6-430e-8ee0-fb1a0902bc9c",
   "metadata": {},
   "outputs": [
    {
     "data": {
      "text/plain": [
       "2"
      ]
     },
     "execution_count": 79,
     "metadata": {},
     "output_type": "execute_result"
    }
   ],
   "source": [
    "matriz1.ndim"
   ]
  },
  {
   "cell_type": "code",
   "execution_count": 81,
   "id": "e7395b83-2846-4e7c-afa5-916f4263ecbc",
   "metadata": {},
   "outputs": [
    {
     "data": {
      "text/plain": [
       "(3, 2)"
      ]
     },
     "execution_count": 81,
     "metadata": {},
     "output_type": "execute_result"
    }
   ],
   "source": [
    "matriz1.shape"
   ]
  },
  {
   "cell_type": "code",
   "execution_count": 83,
   "id": "4007fa54-d102-4a84-b614-384340723309",
   "metadata": {},
   "outputs": [
    {
     "data": {
      "text/plain": [
       "array([[10., 20.],\n",
       "       [40., 50.],\n",
       "       [60., 70.]], dtype=float32)"
      ]
     },
     "execution_count": 83,
     "metadata": {},
     "output_type": "execute_result"
    }
   ],
   "source": [
    "matriz1"
   ]
  },
  {
   "cell_type": "code",
   "execution_count": 87,
   "id": "106b1ac6-eb49-48bc-b363-12a8e45026a8",
   "metadata": {},
   "outputs": [],
   "source": [
    "scalar = np.array( 108 ) "
   ]
  },
  {
   "cell_type": "code",
   "execution_count": 89,
   "id": "a635e66e-2600-4efe-a66c-b3093795d065",
   "metadata": {},
   "outputs": [
    {
     "data": {
      "text/plain": [
       "0"
      ]
     },
     "execution_count": 89,
     "metadata": {},
     "output_type": "execute_result"
    }
   ],
   "source": [
    "scalar.ndim"
   ]
  },
  {
   "cell_type": "code",
   "execution_count": 91,
   "id": "32d8effd-14b7-4998-b468-1e769029834b",
   "metadata": {},
   "outputs": [
    {
     "data": {
      "text/plain": [
       "()"
      ]
     },
     "execution_count": 91,
     "metadata": {},
     "output_type": "execute_result"
    }
   ],
   "source": [
    "scalar.shape"
   ]
  },
  {
   "cell_type": "code",
   "execution_count": 93,
   "id": "d036c1ee-cb61-421f-8084-5f1c00237e87",
   "metadata": {},
   "outputs": [
    {
     "data": {
      "text/plain": [
       "dtype('int32')"
      ]
     },
     "execution_count": 93,
     "metadata": {},
     "output_type": "execute_result"
    }
   ],
   "source": [
    "scalar.dtype"
   ]
  },
  {
   "cell_type": "code",
   "execution_count": 101,
   "id": "86e6d66f-46d6-4f26-9302-073ce30bbd70",
   "metadata": {},
   "outputs": [
    {
     "data": {
      "text/plain": [
       "array([[0., 0., 0., 0., 0., 0., 0., 0., 0., 0.],\n",
       "       [0., 0., 0., 0., 0., 0., 0., 0., 0., 0.],\n",
       "       [0., 0., 0., 0., 0., 0., 0., 0., 0., 0.],\n",
       "       [0., 0., 0., 0., 0., 0., 0., 0., 0., 0.],\n",
       "       [0., 0., 0., 0., 0., 0., 0., 0., 0., 0.],\n",
       "       [0., 0., 0., 0., 0., 0., 0., 0., 0., 0.],\n",
       "       [0., 0., 0., 0., 0., 0., 0., 0., 0., 0.],\n",
       "       [0., 0., 0., 0., 0., 0., 0., 0., 0., 0.],\n",
       "       [0., 0., 0., 0., 0., 0., 0., 0., 0., 0.],\n",
       "       [0., 0., 0., 0., 0., 0., 0., 0., 0., 0.],\n",
       "       [0., 0., 0., 0., 0., 0., 0., 0., 0., 0.],\n",
       "       [0., 0., 0., 0., 0., 0., 0., 0., 0., 0.],\n",
       "       [0., 0., 0., 0., 0., 0., 0., 0., 0., 0.],\n",
       "       [0., 0., 0., 0., 0., 0., 0., 0., 0., 0.],\n",
       "       [0., 0., 0., 0., 0., 0., 0., 0., 0., 0.],\n",
       "       [0., 0., 0., 0., 0., 0., 0., 0., 0., 0.],\n",
       "       [0., 0., 0., 0., 0., 0., 0., 0., 0., 0.],\n",
       "       [0., 0., 0., 0., 0., 0., 0., 0., 0., 0.],\n",
       "       [0., 0., 0., 0., 0., 0., 0., 0., 0., 0.],\n",
       "       [0., 0., 0., 0., 0., 0., 0., 0., 0., 0.]])"
      ]
     },
     "execution_count": 101,
     "metadata": {},
     "output_type": "execute_result"
    }
   ],
   "source": [
    "matriz2 = np.zeros( (20, 10) )\n",
    "matriz2"
   ]
  },
  {
   "cell_type": "code",
   "execution_count": 111,
   "id": "ffff31f4-777a-4b36-a652-5682202ab4e7",
   "metadata": {},
   "outputs": [
    {
     "data": {
      "text/plain": [
       "array([-10. ,  -9.5,  -9. ,  -8.5,  -8. ,  -7.5,  -7. ,  -6.5,  -6. ,\n",
       "        -5.5,  -5. ,  -4.5,  -4. ,  -3.5,  -3. ,  -2.5,  -2. ,  -1.5,\n",
       "        -1. ,  -0.5,   0. ,   0.5,   1. ,   1.5,   2. ,   2.5,   3. ,\n",
       "         3.5,   4. ,   4.5,   5. ,   5.5,   6. ,   6.5,   7. ,   7.5,\n",
       "         8. ,   8.5,   9. ,   9.5])"
      ]
     },
     "execution_count": 111,
     "metadata": {},
     "output_type": "execute_result"
    }
   ],
   "source": [
    "vetor3 = np.arange( -10, 10, 0.5 )\n",
    "vetor3"
   ]
  },
  {
   "cell_type": "code",
   "execution_count": 115,
   "id": "124214e6-6698-444b-a182-f716cf067aa9",
   "metadata": {},
   "outputs": [
    {
     "data": {
      "text/plain": [
       "array([-10. ,  -9.5,  -9. ,  -8.5,  -8. ,  -7.5,  -7. ,  -6.5,  -6. ,\n",
       "        -5.5,  -5. ,  -4.5,  -4. ,  -3.5,  -3. ,  -2.5,  -2. ,  -1.5,\n",
       "        -1. ,  -0.5,   0. ,   0.5,   1. ,   1.5,   2. ,   2.5,   3. ,\n",
       "         3.5,   4. ,   4.5,   5. ,   5.5,   6. ,   6.5,   7. ,   7.5,\n",
       "         8. ,   8.5,   9. ,   9.5,  10. ])"
      ]
     },
     "execution_count": 115,
     "metadata": {},
     "output_type": "execute_result"
    }
   ],
   "source": [
    "vetor4 = np.concatenate( [vetor3, [10]] )\n",
    "vetor4"
   ]
  },
  {
   "cell_type": "code",
   "execution_count": 121,
   "id": "1024f1d0-dca2-4598-a32b-eba4155c37ee",
   "metadata": {},
   "outputs": [
    {
     "data": {
      "text/plain": [
       "(41,)"
      ]
     },
     "execution_count": 121,
     "metadata": {},
     "output_type": "execute_result"
    }
   ],
   "source": [
    "vetor4.shape"
   ]
  },
  {
   "cell_type": "code",
   "execution_count": 123,
   "id": "1327d4f1-eb15-4fef-8045-995a727405dc",
   "metadata": {},
   "outputs": [
    {
     "data": {
      "text/plain": [
       "array([0., 0., 0., 0., 0., 0., 0., 0., 0., 0., 0., 0., 0., 0., 0., 0., 0.,\n",
       "       0., 0., 0., 0., 0., 0., 0., 0., 0., 0., 0., 0., 0., 0., 0., 0., 0.,\n",
       "       0., 0., 0., 0., 0., 0., 0.])"
      ]
     },
     "execution_count": 123,
     "metadata": {},
     "output_type": "execute_result"
    }
   ],
   "source": [
    "np.zeros_like(vetor4)"
   ]
  },
  {
   "cell_type": "code",
   "execution_count": 125,
   "id": "f4b334dd-578e-4518-a8cd-84c8e71c7b2e",
   "metadata": {},
   "outputs": [
    {
     "data": {
      "text/plain": [
       "array([[10., 20.],\n",
       "       [40., 50.],\n",
       "       [60., 70.]], dtype=float32)"
      ]
     },
     "execution_count": 125,
     "metadata": {},
     "output_type": "execute_result"
    }
   ],
   "source": [
    "matriz1"
   ]
  },
  {
   "cell_type": "code",
   "execution_count": 129,
   "id": "c81d4ebc-c4d7-4347-8742-17a4b1beb2e9",
   "metadata": {},
   "outputs": [
    {
     "data": {
      "text/plain": [
       "array([[1., 1.],\n",
       "       [1., 1.],\n",
       "       [1., 1.]], dtype=float32)"
      ]
     },
     "execution_count": 129,
     "metadata": {},
     "output_type": "execute_result"
    }
   ],
   "source": [
    "np.ones_like(matriz1)"
   ]
  },
  {
   "cell_type": "code",
   "execution_count": 155,
   "id": "54a5d8a8-b9c5-40e9-b3eb-ab027f77dea7",
   "metadata": {},
   "outputs": [],
   "source": [
    "# np.random.random( (7, 3) )\n",
    "matriz5 = np.random.randint( 10, 20, (7, 3) )"
   ]
  },
  {
   "cell_type": "code",
   "execution_count": 147,
   "id": "be9e6465-a221-4a99-8cdd-2ea0d8c981c0",
   "metadata": {},
   "outputs": [
    {
     "data": {
      "text/plain": [
       "array([[1., 0., 0., 0., 0., 0.],\n",
       "       [0., 1., 0., 0., 0., 0.],\n",
       "       [0., 0., 1., 0., 0., 0.],\n",
       "       [0., 0., 0., 1., 0., 0.],\n",
       "       [0., 0., 0., 0., 1., 0.],\n",
       "       [0., 0., 0., 0., 0., 1.]])"
      ]
     },
     "execution_count": 147,
     "metadata": {},
     "output_type": "execute_result"
    }
   ],
   "source": [
    "matriz_ident_6 = np.eye(6)\n",
    "matriz_ident_6"
   ]
  },
  {
   "cell_type": "code",
   "execution_count": 151,
   "id": "2e7a3e0c-e3ed-4511-b94f-a49e48970236",
   "metadata": {},
   "outputs": [
    {
     "data": {
      "text/plain": [
       "array([[1., 0., 0., 0.],\n",
       "       [0., 0., 0., 1.],\n",
       "       [0., 0., 0., 0.],\n",
       "       [0., 0., 1., 0.],\n",
       "       [0., 0., 0., 0.],\n",
       "       [0., 1., 0., 0.],\n",
       "       [0., 0., 0., 0.],\n",
       "       [1., 0., 0., 0.],\n",
       "       [0., 0., 0., 1.]])"
      ]
     },
     "execution_count": 151,
     "metadata": {},
     "output_type": "execute_result"
    }
   ],
   "source": [
    "matriz_ident_6.reshape( (9, 4) )"
   ]
  },
  {
   "cell_type": "code",
   "execution_count": 153,
   "id": "92623ecb-8640-4f2c-8130-c2f9a39c5271",
   "metadata": {},
   "outputs": [
    {
     "data": {
      "text/plain": [
       "array([[1., 0., 0., 0., 0., 0.],\n",
       "       [0., 1., 0., 0., 0., 0.],\n",
       "       [0., 0., 1., 0., 0., 0.],\n",
       "       [0., 0., 0., 1., 0., 0.],\n",
       "       [0., 0., 0., 0., 1., 0.],\n",
       "       [0., 0., 0., 0., 0., 1.]])"
      ]
     },
     "execution_count": 153,
     "metadata": {},
     "output_type": "execute_result"
    }
   ],
   "source": [
    "matriz_ident_6.T"
   ]
  },
  {
   "cell_type": "code",
   "execution_count": 157,
   "id": "d8617198-a35c-4f79-8675-67c0b0e31e4c",
   "metadata": {},
   "outputs": [
    {
     "data": {
      "text/plain": [
       "array([[16, 18, 15],\n",
       "       [11, 11, 18],\n",
       "       [18, 14, 12],\n",
       "       [14, 18, 16],\n",
       "       [10, 12, 15],\n",
       "       [14, 17, 16],\n",
       "       [12, 10, 17]])"
      ]
     },
     "execution_count": 157,
     "metadata": {},
     "output_type": "execute_result"
    }
   ],
   "source": [
    "matriz5"
   ]
  },
  {
   "cell_type": "code",
   "execution_count": 159,
   "id": "d4281ae2-942a-4fef-8e35-26ee85a9b6da",
   "metadata": {},
   "outputs": [
    {
     "data": {
      "text/plain": [
       "array([[16, 11, 18, 14, 10, 14, 12],\n",
       "       [18, 11, 14, 18, 12, 17, 10],\n",
       "       [15, 18, 12, 16, 15, 16, 17]])"
      ]
     },
     "execution_count": 159,
     "metadata": {},
     "output_type": "execute_result"
    }
   ],
   "source": [
    "matriz5.T"
   ]
  },
  {
   "cell_type": "code",
   "execution_count": 195,
   "id": "66a0334a-655d-47d7-b9fa-46f0d8e3b7f3",
   "metadata": {},
   "outputs": [
    {
     "data": {
      "text/plain": [
       "array([[10, 27, 11, 23],\n",
       "       [20, 22, 18, 17],\n",
       "       [14, 24, 28, 11],\n",
       "       [27, 17, 13, 28],\n",
       "       [14, 24, 28, 26],\n",
       "       [21, 21, 13, 15]])"
      ]
     },
     "execution_count": 195,
     "metadata": {},
     "output_type": "execute_result"
    }
   ],
   "source": [
    "matriz6 = np.random.randint( 10, 30, (6, 4) )\n",
    "matriz6"
   ]
  },
  {
   "cell_type": "code",
   "execution_count": 197,
   "id": "6c392c8e-6118-464e-9027-70c28006549f",
   "metadata": {},
   "outputs": [
    {
     "data": {
      "text/plain": [
       "array([10, 27, 11, 23, 20, 22, 18, 17, 14, 24, 28, 11, 27, 17, 13, 28, 14,\n",
       "       24, 28, 26, 21, 21, 13, 15])"
      ]
     },
     "execution_count": 197,
     "metadata": {},
     "output_type": "execute_result"
    }
   ],
   "source": [
    "matriz6.reshape(24)"
   ]
  },
  {
   "cell_type": "code",
   "execution_count": 199,
   "id": "7678e02f-0066-4df8-9658-8595914be6af",
   "metadata": {},
   "outputs": [
    {
     "data": {
      "text/plain": [
       "array([[10, 20, 14, 27, 14, 21],\n",
       "       [27, 22, 24, 17, 24, 21],\n",
       "       [11, 18, 28, 13, 28, 13],\n",
       "       [23, 17, 11, 28, 26, 15]])"
      ]
     },
     "execution_count": 199,
     "metadata": {},
     "output_type": "execute_result"
    }
   ],
   "source": [
    "matriz6.T"
   ]
  },
  {
   "cell_type": "code",
   "execution_count": 201,
   "id": "698586df-668b-44e4-9ccd-2d257a4c2c85",
   "metadata": {},
   "outputs": [
    {
     "data": {
      "text/plain": [
       "array([10, 27, 11, 23, 20, 22, 18, 17, 14, 24, 28, 11, 27, 17, 13, 28, 14,\n",
       "       24, 28, 26, 21, 21, 13, 15])"
      ]
     },
     "execution_count": 201,
     "metadata": {},
     "output_type": "execute_result"
    }
   ],
   "source": [
    "matriz6.ravel()"
   ]
  },
  {
   "cell_type": "code",
   "execution_count": 219,
   "id": "b471d7c5-540d-4562-86fa-391694b14c78",
   "metadata": {},
   "outputs": [
    {
     "data": {
      "text/plain": [
       "array([[-19,  27,  11,  23],\n",
       "       [ 20,  22,  18,  17],\n",
       "       [ 14,  24,  28,  11],\n",
       "       [ 27,  17,  13,  28],\n",
       "       [ 14,  24,  28,  26],\n",
       "       [ 21,  21,  13,  15]])"
      ]
     },
     "execution_count": 219,
     "metadata": {},
     "output_type": "execute_result"
    }
   ],
   "source": [
    "matriz6"
   ]
  },
  {
   "cell_type": "code",
   "execution_count": 213,
   "id": "976f960e-e859-4b0e-94d4-178940b04db3",
   "metadata": {},
   "outputs": [
    {
     "data": {
      "text/plain": [
       "array([[-19,  27,  11,  23,  20,  22,  18,  17],\n",
       "       [ 14,  24,  28,  11,  27,  17,  13,  28],\n",
       "       [ 14,  24,  28,  26,  21,  21,  13,  15]])"
      ]
     },
     "execution_count": 213,
     "metadata": {},
     "output_type": "execute_result"
    }
   ],
   "source": [
    "matriz7 = np.copy(matriz6.reshape(3, 8))\n",
    "matriz7"
   ]
  },
  {
   "cell_type": "code",
   "execution_count": 217,
   "id": "bb04c3d7-3aa4-4d4c-9f04-a9a21a033636",
   "metadata": {},
   "outputs": [
    {
     "data": {
      "text/plain": [
       "array([[19, 27, 11, 23, 20, 22, 18, 17],\n",
       "       [14, 24, 28, 11, 27, 17, 13, 28],\n",
       "       [14, 24, 28, 26, 21, 21, 13, 15]])"
      ]
     },
     "execution_count": 217,
     "metadata": {},
     "output_type": "execute_result"
    }
   ],
   "source": [
    "matriz7[0, 0] = 19\n",
    "matriz7"
   ]
  },
  {
   "cell_type": "code",
   "execution_count": 221,
   "id": "3f8a5a63-4a6c-4a11-ae14-6fe01721d4a2",
   "metadata": {},
   "outputs": [],
   "source": [
    "np.savez( \"matriz7.npz\", a=matriz7 )"
   ]
  },
  {
   "cell_type": "code",
   "execution_count": 1,
   "id": "ea5544c7-5333-4de2-a7f1-41ba77fff9f7",
   "metadata": {},
   "outputs": [
    {
     "ename": "NameError",
     "evalue": "name 'matriz7' is not defined",
     "output_type": "error",
     "traceback": [
      "\u001b[1;31m---------------------------------------------------------------------------\u001b[0m",
      "\u001b[1;31mNameError\u001b[0m                                 Traceback (most recent call last)",
      "Cell \u001b[1;32mIn[1], line 1\u001b[0m\n\u001b[1;32m----> 1\u001b[0m matriz7\n",
      "\u001b[1;31mNameError\u001b[0m: name 'matriz7' is not defined"
     ]
    }
   ],
   "source": []
  },
  {
   "cell_type": "code",
   "execution_count": 7,
   "id": "f23e63b6-0cbf-4c77-9642-574439019892",
   "metadata": {},
   "outputs": [
    {
     "data": {
      "text/plain": [
       "array([[19, 27, 11, 23, 20, 22, 18, 17],\n",
       "       [14, 24, 28, 11, 27, 17, 13, 28],\n",
       "       [14, 24, 28, 26, 21, 21, 13, 15]])"
      ]
     },
     "execution_count": 7,
     "metadata": {},
     "output_type": "execute_result"
    }
   ],
   "source": [
    "dados = np.load(\"matriz7.npz\")\n",
    "matriz7 = dados[\"a\"]\n",
    "matriz7"
   ]
  },
  {
   "cell_type": "code",
   "execution_count": 9,
   "id": "86f2afc2-403a-45fa-a7f4-41c417c005de",
   "metadata": {},
   "outputs": [
    {
     "data": {
      "text/plain": [
       "array([[23, 31, 15, 27, 24, 26, 22, 21],\n",
       "       [18, 28, 32, 15, 31, 21, 17, 32],\n",
       "       [18, 28, 32, 30, 25, 25, 17, 19]])"
      ]
     },
     "execution_count": 9,
     "metadata": {},
     "output_type": "execute_result"
    }
   ],
   "source": [
    "matriz7 + 4"
   ]
  },
  {
   "cell_type": "code",
   "execution_count": 13,
   "id": "7c3faef6-e8f1-44af-82e7-2e38e0991112",
   "metadata": {},
   "outputs": [
    {
     "data": {
      "text/plain": [
       "array([[False,  True, False, False, False, False, False, False],\n",
       "       [False, False,  True, False,  True, False, False,  True],\n",
       "       [False, False,  True,  True, False, False, False, False]])"
      ]
     },
     "execution_count": 13,
     "metadata": {},
     "output_type": "execute_result"
    }
   ],
   "source": [
    "matriz7 > 25"
   ]
  },
  {
   "cell_type": "code",
   "execution_count": 15,
   "id": "5c812576-4d55-43f3-9c9f-8bafc056274f",
   "metadata": {},
   "outputs": [],
   "source": [
    "matriz7 += 4"
   ]
  },
  {
   "cell_type": "code",
   "execution_count": 17,
   "id": "f0e88df8-3f6b-4dd4-8d0a-d5d1aab380d7",
   "metadata": {},
   "outputs": [
    {
     "data": {
      "text/plain": [
       "array([[23, 31, 15, 27, 24, 26, 22, 21],\n",
       "       [18, 28, 32, 15, 31, 21, 17, 32],\n",
       "       [18, 28, 32, 30, 25, 25, 17, 19]])"
      ]
     },
     "execution_count": 17,
     "metadata": {},
     "output_type": "execute_result"
    }
   ],
   "source": [
    "matriz7"
   ]
  },
  {
   "cell_type": "code",
   "execution_count": 23,
   "id": "3a00730e-690d-490d-8f25-468363d72b3f",
   "metadata": {},
   "outputs": [],
   "source": [
    "matriz7[matriz7 > 25] = -10"
   ]
  },
  {
   "cell_type": "code",
   "execution_count": 25,
   "id": "f9f13a9e-2630-4929-bd9b-d8e4606f3805",
   "metadata": {},
   "outputs": [
    {
     "data": {
      "text/plain": [
       "array([[ 23, -10,  15, -10,  24, -10,  22,  21],\n",
       "       [ 18, -10, -10,  15, -10,  21,  17, -10],\n",
       "       [ 18, -10, -10, -10,  25,  25,  17,  19]])"
      ]
     },
     "execution_count": 25,
     "metadata": {},
     "output_type": "execute_result"
    }
   ],
   "source": [
    "matriz7"
   ]
  },
  {
   "cell_type": "code",
   "execution_count": 29,
   "id": "d4b5a20a-0c9a-4c13-9bd8-3ed20ecd12b1",
   "metadata": {},
   "outputs": [
    {
     "name": "stderr",
     "output_type": "stream",
     "text": [
      "C:\\Users\\anton\\AppData\\Local\\Temp\\ipykernel_40296\\724613441.py:1: RuntimeWarning: invalid value encountered in sqrt\n",
      "  matriz8 = np.sqrt(matriz7)\n"
     ]
    }
   ],
   "source": [
    "matriz8 = np.sqrt(matriz7)"
   ]
  },
  {
   "cell_type": "code",
   "execution_count": 31,
   "id": "ffa314c3-f7e7-4e7d-af58-137767a097ce",
   "metadata": {},
   "outputs": [
    {
     "data": {
      "text/plain": [
       "array([[False,  True, False,  True, False,  True, False, False],\n",
       "       [False,  True,  True, False,  True, False, False,  True],\n",
       "       [False,  True,  True,  True, False, False, False, False]])"
      ]
     },
     "execution_count": 31,
     "metadata": {},
     "output_type": "execute_result"
    }
   ],
   "source": [
    "np.isnan( matriz8 )"
   ]
  },
  {
   "cell_type": "code",
   "execution_count": 33,
   "id": "90f0cdbf-94d1-4ce8-a8ad-0c63514ced31",
   "metadata": {},
   "outputs": [
    {
     "data": {
      "text/plain": [
       "array([[4.79583152,        nan, 3.87298335,        nan, 4.89897949,\n",
       "               nan, 4.69041576, 4.58257569],\n",
       "       [4.24264069,        nan,        nan, 3.87298335,        nan,\n",
       "        4.58257569, 4.12310563,        nan],\n",
       "       [4.24264069,        nan,        nan,        nan, 5.        ,\n",
       "        5.        , 4.12310563, 4.35889894]])"
      ]
     },
     "execution_count": 33,
     "metadata": {},
     "output_type": "execute_result"
    }
   ],
   "source": [
    "matriz8"
   ]
  },
  {
   "cell_type": "code",
   "execution_count": 47,
   "id": "75146562-da77-4d4f-8933-029f1a8a4df7",
   "metadata": {},
   "outputs": [
    {
     "data": {
      "text/plain": [
       "array([[ 23, -10,  15, -10,  24, -10,  22,  21],\n",
       "       [ 18, -10, -10,  15, -10,  21,  17, -10],\n",
       "       [ 18, -10, -10, -10,  25,  25,  17,  19]])"
      ]
     },
     "execution_count": 47,
     "metadata": {},
     "output_type": "execute_result"
    }
   ],
   "source": [
    "matriz7"
   ]
  },
  {
   "cell_type": "code",
   "execution_count": 43,
   "id": "6305494e-975b-41c2-8551-1389e11c213b",
   "metadata": {},
   "outputs": [
    {
     "data": {
      "text/plain": [
       "array([[-10, -10,  15, -10,  21,  17]])"
      ]
     },
     "execution_count": 43,
     "metadata": {},
     "output_type": "execute_result"
    }
   ],
   "source": [
    "matriz7[ 1:-1, 1:-1]"
   ]
  },
  {
   "cell_type": "code",
   "execution_count": 53,
   "id": "db696c39-b32e-46d9-82e6-8bd98651f5c8",
   "metadata": {},
   "outputs": [
    {
     "ename": "AxisError",
     "evalue": "axis 2 is out of bounds for array of dimension 2",
     "output_type": "error",
     "traceback": [
      "\u001b[1;31m---------------------------------------------------------------------------\u001b[0m",
      "\u001b[1;31mAxisError\u001b[0m                                 Traceback (most recent call last)",
      "Cell \u001b[1;32mIn[53], line 1\u001b[0m\n\u001b[1;32m----> 1\u001b[0m matriz7\u001b[38;5;241m.\u001b[39msum(axis\u001b[38;5;241m=\u001b[39m\u001b[38;5;241m2\u001b[39m)\n",
      "File \u001b[1;32mC:\\ProgramData\\anaconda3\\Lib\\site-packages\\numpy\\core\\_methods.py:49\u001b[0m, in \u001b[0;36m_sum\u001b[1;34m(a, axis, dtype, out, keepdims, initial, where)\u001b[0m\n\u001b[0;32m     47\u001b[0m \u001b[38;5;28;01mdef\u001b[39;00m \u001b[38;5;21m_sum\u001b[39m(a, axis\u001b[38;5;241m=\u001b[39m\u001b[38;5;28;01mNone\u001b[39;00m, dtype\u001b[38;5;241m=\u001b[39m\u001b[38;5;28;01mNone\u001b[39;00m, out\u001b[38;5;241m=\u001b[39m\u001b[38;5;28;01mNone\u001b[39;00m, keepdims\u001b[38;5;241m=\u001b[39m\u001b[38;5;28;01mFalse\u001b[39;00m,\n\u001b[0;32m     48\u001b[0m          initial\u001b[38;5;241m=\u001b[39m_NoValue, where\u001b[38;5;241m=\u001b[39m\u001b[38;5;28;01mTrue\u001b[39;00m):\n\u001b[1;32m---> 49\u001b[0m     \u001b[38;5;28;01mreturn\u001b[39;00m umr_sum(a, axis, dtype, out, keepdims, initial, where)\n",
      "\u001b[1;31mAxisError\u001b[0m: axis 2 is out of bounds for array of dimension 2"
     ]
    }
   ],
   "source": [
    "matriz7.sum(axis=2)"
   ]
  },
  {
   "cell_type": "code",
   "execution_count": null,
   "id": "39f9b06f-f2cc-4277-a506-e368877a3e54",
   "metadata": {},
   "outputs": [],
   "source": []
  }
 ],
 "metadata": {
  "kernelspec": {
   "display_name": "Python [conda env:base] *",
   "language": "python",
   "name": "conda-base-py"
  },
  "language_info": {
   "codemirror_mode": {
    "name": "ipython",
    "version": 3
   },
   "file_extension": ".py",
   "mimetype": "text/x-python",
   "name": "python",
   "nbconvert_exporter": "python",
   "pygments_lexer": "ipython3",
   "version": "3.12.7"
  }
 },
 "nbformat": 4,
 "nbformat_minor": 5
}
