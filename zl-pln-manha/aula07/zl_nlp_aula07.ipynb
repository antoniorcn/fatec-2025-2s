{
  "nbformat": 4,
  "nbformat_minor": 0,
  "metadata": {
    "colab": {
      "provenance": []
    },
    "kernelspec": {
      "name": "python3",
      "display_name": "Python 3"
    },
    "language_info": {
      "name": "python"
    }
  },
  "cells": [
    {
      "cell_type": "code",
      "source": [
        "import numpy as np"
      ],
      "metadata": {
        "id": "pc-eP9hsZZE9"
      },
      "execution_count": 1,
      "outputs": []
    },
    {
      "cell_type": "code",
      "source": [
        "import matplotlib.pyplot as plt"
      ],
      "metadata": {
        "id": "I3HgcjbJZ2j3"
      },
      "execution_count": 4,
      "outputs": []
    },
    {
      "cell_type": "code",
      "execution_count": 2,
      "metadata": {
        "id": "WR2aQcJzYzS1"
      },
      "outputs": [],
      "source": [
        "X = np.array([150, 160, 155, 140, 170, 165, 152])"
      ]
    },
    {
      "cell_type": "code",
      "source": [
        "Y = np.array([300000, 350000, 320000, 280000, 400000, 370000, 310000 ])"
      ],
      "metadata": {
        "id": "5mJOSGaSZibn"
      },
      "execution_count": 3,
      "outputs": []
    },
    {
      "cell_type": "code",
      "source": [
        "reta_1 = X * 1000\n",
        "reta_2 = X * 2000\n",
        "reta_3 = X * 3000"
      ],
      "metadata": {
        "id": "WxD8iOqcclqt"
      },
      "execution_count": 33,
      "outputs": []
    },
    {
      "cell_type": "code",
      "source": [
        "plt.scatter(X, Y)\n",
        "plt.plot(X, reta_1, color=\"red\")\n",
        "plt.plot(X, reta_2, color=\"red\")\n",
        "plt.plot(X, reta_3, color=\"red\")\n",
        "plt.ylim(0, 1000000)\n",
        "plt.xlim(0, 200)"
      ],
      "metadata": {
        "colab": {
          "base_uri": "https://localhost:8080/",
          "height": 463
        },
        "id": "MQankKlwZ1Hg",
        "outputId": "24e12592-5e26-4ee6-9e81-71f9bf7c1c3b"
      },
      "execution_count": 34,
      "outputs": [
        {
          "output_type": "execute_result",
          "data": {
            "text/plain": [
              "(0.0, 200.0)"
            ]
          },
          "metadata": {},
          "execution_count": 34
        },
        {
          "output_type": "display_data",
          "data": {
            "text/plain": [
              "<Figure size 640x480 with 1 Axes>"
            ],
            "image/png": "[encoded data removed]"
          },
          "metadata": {}
        }
      ]
    },
    {
      "cell_type": "code",
      "source": [
        "reta_3"
      ],
      "metadata": {
        "colab": {
          "base_uri": "https://localhost:8080/"
        },
        "id": "J7bjQZd5czEl",
        "outputId": "87816dcc-80d5-4058-815d-fb1d40576b98"
      },
      "execution_count": 38,
      "outputs": [
        {
          "output_type": "execute_result",
          "data": {
            "text/plain": [
              "array([450000, 480000, 465000, 420000, 510000, 495000, 456000])"
            ]
          },
          "metadata": {},
          "execution_count": 38
        }
      ]
    },
    {
      "cell_type": "code",
      "source": [
        "Y"
      ],
      "metadata": {
        "colab": {
          "base_uri": "https://localhost:8080/"
        },
        "id": "NCDJS8KLc3M7",
        "outputId": "0e1f9633-f00a-41e2-dd7c-66df7e71dc3d"
      },
      "execution_count": 39,
      "outputs": [
        {
          "output_type": "execute_result",
          "data": {
            "text/plain": [
              "array([300000, 350000, 320000, 280000, 400000, 370000, 310000])"
            ]
          },
          "metadata": {},
          "execution_count": 39
        }
      ]
    },
    {
      "cell_type": "code",
      "source": [],
      "metadata": {
        "id": "XJfKm76KdZza"
      },
      "execution_count": null,
      "outputs": []
    },
    {
      "cell_type": "code",
      "source": [
        "np.sum(np.abs(reta_1 - Y))"
      ],
      "metadata": {
        "colab": {
          "base_uri": "https://localhost:8080/"
        },
        "id": "hfZIKJYGdByD",
        "outputId": "1a4af915-603e-4ae5-e0e3-36d52b8af529"
      },
      "execution_count": 45,
      "outputs": [
        {
          "output_type": "execute_result",
          "data": {
            "text/plain": [
              "np.int64(1238000)"
            ]
          },
          "metadata": {},
          "execution_count": 45
        }
      ]
    },
    {
      "cell_type": "code",
      "source": [
        "np.sum(np.abs(reta_2 - Y))"
      ],
      "metadata": {
        "colab": {
          "base_uri": "https://localhost:8080/"
        },
        "id": "oa5Couz2dZSC",
        "outputId": "55c3da12-04e5-429d-d31c-b9a712755dca"
      },
      "execution_count": 46,
      "outputs": [
        {
          "output_type": "execute_result",
          "data": {
            "text/plain": [
              "np.int64(146000)"
            ]
          },
          "metadata": {},
          "execution_count": 46
        }
      ]
    },
    {
      "cell_type": "code",
      "source": [
        "np.sum(np.abs(reta_3 - Y))"
      ],
      "metadata": {
        "colab": {
          "base_uri": "https://localhost:8080/"
        },
        "id": "S4G8Ii1yc5yS",
        "outputId": "c9a06f67-4978-497c-e910-f5f247c86932"
      },
      "execution_count": 47,
      "outputs": [
        {
          "output_type": "execute_result",
          "data": {
            "text/plain": [
              "np.int64(946000)"
            ]
          },
          "metadata": {},
          "execution_count": 47
        }
      ]
    },
    {
      "cell_type": "code",
      "source": [
        "taxa_aprendizagem = 0.000001"
      ],
      "metadata": {
        "id": "UoNnyQvofkYt"
      },
      "execution_count": 82,
      "outputs": []
    },
    {
      "cell_type": "code",
      "source": [
        "m = 7  # instancias"
      ],
      "metadata": {
        "id": "rKfFB-p2fkG6"
      },
      "execution_count": 87,
      "outputs": []
    },
    {
      "cell_type": "code",
      "source": [
        "w = 100\n",
        "b = 10"
      ],
      "metadata": {
        "id": "62XuV9_LdvPW"
      },
      "execution_count": 88,
      "outputs": []
    },
    {
      "cell_type": "code",
      "source": [
        "melhor_w = w\n",
        "melhor_b = b\n",
        "melhor_erro = None\n",
        "for j in range(20):   # epochs (Ciclos)\n",
        "  soma_erro_b = 0\n",
        "  soma_erro_w = 0\n",
        "  for i in range(m):   # Itera em todas as instancias\n",
        "    y_hat = w * X[i] + b\n",
        "    erro = y_hat - Y[i]\n",
        "    soma_erro_w += erro * X[i]\n",
        "    soma_erro_b += erro\n",
        "  print(erro)\n",
        "  if melhor_erro is None:\n",
        "    melhor_erro = erro\n",
        "  else:\n",
        "    if abs(erro) < abs(melhor_erro):\n",
        "      melhor_erro = erro\n",
        "      melhor_w = w\n",
        "      melhor_b = b\n",
        "  w = w - taxa_aprendizagem * soma_erro_w\n",
        "  b = b - taxa_aprendizagem * soma_erro_b\n",
        "\n",
        "print(\"Melhor W ==>\", melhor_w)\n",
        "print(\"Melhor B ==>\", melhor_b)\n"
      ],
      "metadata": {
        "colab": {
          "base_uri": "https://localhost:8080/"
        },
        "id": "1SZnQ4LIe0kI",
        "outputId": "50156d7d-f1f4-4873-aa77-684931fb0d52"
      },
      "execution_count": 89,
      "outputs": [
        {
          "output_type": "stream",
          "name": "stdout",
          "text": [
            "-294790\n",
            "-241760.49991\n",
            "-197796.97491604145\n",
            "-161349.49707319628\n",
            "-131133.11562972533\n",
            "-106082.55626768479\n",
            "-85314.66500554315\n",
            "-68097.2727278366\n",
            "-53823.38266520307\n",
            "-41989.77080800547\n",
            "-32179.24481411453\n",
            "-24045.935951120337\n",
            "-17303.105542449106\n",
            "-11713.03603534511\n",
            "-7078.650301729911\n",
            "-3236.5637115604477\n",
            "-51.32403050363064\n",
            "2589.363929678919\n",
            "4778.597262317082\n",
            "6593.557090862421\n",
            "Melhor W ==> 2038.9895627144201\n",
            "Melhor B ==> 22.262436904529764\n"
          ]
        }
      ]
    },
    {
      "cell_type": "code",
      "source": [
        "erro = y_hat - Y[0]\n",
        "erro"
      ],
      "metadata": {
        "colab": {
          "base_uri": "https://localhost:8080/"
        },
        "id": "5qAA-Jz3fT1L",
        "outputId": "4887fcec-c0b2-4ef7-8562-6a5a9e7c16c8"
      },
      "execution_count": 56,
      "outputs": [
        {
          "output_type": "execute_result",
          "data": {
            "text/plain": [
              "np.int64(-284990)"
            ]
          },
          "metadata": {},
          "execution_count": 56
        }
      ]
    },
    {
      "cell_type": "code",
      "source": [
        "w = w - taxa_aprendizagem * erro * X[0]\n",
        "w"
      ],
      "metadata": {
        "colab": {
          "base_uri": "https://localhost:8080/"
        },
        "id": "Rpc656SFfnug",
        "outputId": "8c598124-58ae-4872-dc47-af25677b9b3b"
      },
      "execution_count": 61,
      "outputs": [
        {
          "output_type": "execute_result",
          "data": {
            "text/plain": [
              "np.float64(43133.49)"
            ]
          },
          "metadata": {},
          "execution_count": 61
        }
      ]
    },
    {
      "cell_type": "code",
      "source": [
        "b = b - taxa_aprendizagem * erro\n",
        "b"
      ],
      "metadata": {
        "colab": {
          "base_uri": "https://localhost:8080/"
        },
        "id": "kGl-qR9lfy-T",
        "outputId": "0bb8a8e4-12da-4ed5-dd53-a83185294154"
      },
      "execution_count": 60,
      "outputs": [
        {
          "output_type": "execute_result",
          "data": {
            "text/plain": [
              "np.float64(294.99)"
            ]
          },
          "metadata": {},
          "execution_count": 60
        }
      ]
    },
    {
      "cell_type": "code",
      "source": [
        "melhor_reta = melhor_w * X + melhor_b\n",
        "plt.scatter(X, Y)\n",
        "plt.plot(X, melhor_reta, color=\"red\")\n"
      ],
      "metadata": {
        "colab": {
          "base_uri": "https://localhost:8080/",
          "height": 448
        },
        "id": "FKkgJoE7jZps",
        "outputId": "d93253e7-0887-4036-e792-ce698727e23a"
      },
      "execution_count": 90,
      "outputs": [
        {
          "output_type": "execute_result",
          "data": {
            "text/plain": [
              "[<matplotlib.lines.Line2D at 0x7c361396f740>]"
            ]
          },
          "metadata": {},
          "execution_count": 90
        },
        {
          "output_type": "display_data",
          "data": {
            "text/plain": [
              "<Figure size 640x480 with 1 Axes>"
            ],
            "image/png": "[encoded data removed]"
          },
          "metadata": {}
        }
      ]
    }
  ]
}