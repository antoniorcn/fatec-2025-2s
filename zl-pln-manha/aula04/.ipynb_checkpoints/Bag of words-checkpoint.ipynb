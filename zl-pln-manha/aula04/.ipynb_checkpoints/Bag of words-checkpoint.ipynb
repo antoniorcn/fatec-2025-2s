{
 "cells": [
  {
   "cell_type": "code",
   "execution_count": 3,
   "id": "8d15857d-3e8b-4596-8113-2d596b43bd59",
   "metadata": {},
   "outputs": [],
   "source": [
    "from sklearn.feature_extraction.text import CountVectorizer"
   ]
  },
  {
   "cell_type": "code",
   "execution_count": 1,
   "id": "09b3b833-6a85-4b4c-9b88-68e902e7f2b5",
   "metadata": {},
   "outputs": [],
   "source": [
    "frase1 = \"Cachorro morde o gato\""
   ]
  },
  {
   "cell_type": "code",
   "execution_count": null,
   "id": "9d9e667f-ed53-4f1c-87a4-01d2fc153853",
   "metadata": {},
   "outputs": [],
   "source": [
    "frase2 = \"Gato tenta agarrar o passarinho\""
   ]
  },
  {
   "cell_type": "code",
   "execution_count": null,
   "id": "0088c064-335e-40eb-bc76-857516ce7a7b",
   "metadata": {},
   "outputs": [],
   "source": [
    "frase3 = \"Gato morde o cachorro\""
   ]
  },
  {
   "cell_type": "code",
   "execution_count": null,
   "id": "d1575f5d-1bc8-4bb1-a17d-e1b688184794",
   "metadata": {},
   "outputs": [],
   "source": [
    "vocabulario = ['cachorro', 'morde', 'o', 'gato', 'tenta', 'agarrar', 'passarinho']"
   ]
  },
  {
   "cell_type": "code",
   "execution_count": null,
   "id": "0f256cd1-687f-4d12-ad0b-60a2c8a7b0e0",
   "metadata": {},
   "outputs": [],
   "source": [
    "lista1 =      [1,            1,      1,    1,      0,       0,         0]\n",
    "lista2 =      [0,            0,      1,    1,      1,       1,         1]\n",
    "lista3 =      [1,            1,      1,    1,      0,       0,         0]"
   ]
  },
  {
   "cell_type": "code",
   "execution_count": 21,
   "id": "e97812b7-8aec-4b5e-ac02-95d8786a254e",
   "metadata": {},
   "outputs": [],
   "source": [
    "texto = [\"rato roeu a roupa do rei de Roma,\",\n",
    "\"O rato roeu a roupa do rei da Rússia,\",\n",
    "\"O rato roeu a roupa do RodovaIho...\",\n",
    "\"O rato a roer roía\",\n",
    "\"E a rosa Rita Ramalho do rato a roer se ria.\",\n",
    "\"O rato roeu a roupa do rei de roma\",\n",
    "\"a rainha com raiva roeu o resto.\" ]"
   ]
  },
  {
   "cell_type": "code",
   "execution_count": 23,
   "id": "f6c454d6-908a-471f-b719-f33741f8f686",
   "metadata": {},
   "outputs": [],
   "source": [
    "vetorizador = CountVectorizer(binary=True)"
   ]
  },
  {
   "cell_type": "code",
   "execution_count": 27,
   "id": "884bf063-dd05-4ab6-91b9-b7f892298372",
   "metadata": {},
   "outputs": [
    {
     "data": {
      "text/plain": [
       "array([[0, 0, 1, 1, 0, 0, 0, 1, 1, 0, 0, 0, 0, 0, 1, 1, 0, 1, 0, 0, 0],\n",
       "       [0, 1, 0, 1, 0, 0, 0, 1, 1, 0, 0, 0, 0, 0, 1, 0, 0, 1, 0, 1, 0],\n",
       "       [0, 0, 0, 1, 0, 0, 0, 1, 0, 0, 0, 0, 1, 0, 1, 0, 0, 1, 0, 0, 0],\n",
       "       [0, 0, 0, 0, 0, 0, 0, 1, 0, 0, 0, 0, 0, 1, 0, 0, 0, 0, 1, 0, 0],\n",
       "       [0, 0, 0, 1, 0, 0, 1, 1, 0, 0, 1, 1, 0, 1, 0, 0, 1, 0, 0, 0, 1],\n",
       "       [0, 0, 1, 1, 0, 0, 0, 1, 1, 0, 0, 0, 0, 0, 1, 1, 0, 1, 0, 0, 0],\n",
       "       [1, 0, 0, 0, 1, 1, 0, 0, 0, 1, 0, 0, 0, 0, 1, 0, 0, 0, 0, 0, 0]],\n",
       "      dtype=int64)"
      ]
     },
     "execution_count": 27,
     "metadata": {},
     "output_type": "execute_result"
    }
   ],
   "source": [
    "bow = vetorizador.fit_transform( texto )\n",
    "bow.toarray()"
   ]
  },
  {
   "cell_type": "code",
   "execution_count": 29,
   "id": "425cd031-002e-435a-976f-272fa6c2bf70",
   "metadata": {},
   "outputs": [
    {
     "data": {
      "text/plain": [
       "{'rato': 7,\n",
       " 'roeu': 14,\n",
       " 'roupa': 17,\n",
       " 'do': 3,\n",
       " 'rei': 8,\n",
       " 'de': 2,\n",
       " 'roma': 15,\n",
       " 'da': 1,\n",
       " 'rússia': 19,\n",
       " 'rodovaiho': 12,\n",
       " 'roer': 13,\n",
       " 'roía': 18,\n",
       " 'rosa': 16,\n",
       " 'rita': 11,\n",
       " 'ramalho': 6,\n",
       " 'se': 20,\n",
       " 'ria': 10,\n",
       " 'rainha': 4,\n",
       " 'com': 0,\n",
       " 'raiva': 5,\n",
       " 'resto': 9}"
      ]
     },
     "execution_count": 29,
     "metadata": {},
     "output_type": "execute_result"
    }
   ],
   "source": [
    "vetorizador.vocabulary_"
   ]
  },
  {
   "cell_type": "code",
   "execution_count": null,
   "id": "c483f3b8-5342-4cd3-b0cf-2e4dd72f6be4",
   "metadata": {},
   "outputs": [],
   "source": []
  }
 ],
 "metadata": {
  "kernelspec": {
   "display_name": "Python [conda env:base] *",
   "language": "python",
   "name": "conda-base-py"
  },
  "language_info": {
   "codemirror_mode": {
    "name": "ipython",
    "version": 3
   },
   "file_extension": ".py",
   "mimetype": "text/x-python",
   "name": "python",
   "nbconvert_exporter": "python",
   "pygments_lexer": "ipython3",
   "version": "3.12.7"
  }
 },
 "nbformat": 4,
 "nbformat_minor": 5
}
