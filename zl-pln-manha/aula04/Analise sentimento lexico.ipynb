{
 "cells": [
  {
   "cell_type": "code",
   "execution_count": 92,
   "id": "ac02cee8-416e-4ba3-8913-1f1b3addd37a",
   "metadata": {},
   "outputs": [
    {
     "name": "stdout",
     "output_type": "stream",
     "text": [
      "^C\n"
     ]
    }
   ],
   "source": [
    "!conda install nltk"
   ]
  },
  {
   "cell_type": "code",
   "execution_count": 110,
   "id": "07b155b4-0c8b-4d34-8214-57f227b8fd3e",
   "metadata": {},
   "outputs": [],
   "source": [
    "import nltk\n",
    "from nltk import tokenize\n",
    "from nltk.corpus import stopwords"
   ]
  },
  {
   "cell_type": "code",
   "execution_count": 98,
   "id": "a3d5c1f5-122f-45a0-be3b-b7b1d0b8b946",
   "metadata": {},
   "outputs": [],
   "source": [
    "from typing import Dict, List"
   ]
  },
  {
   "cell_type": "code",
   "execution_count": 112,
   "id": "1b992a7e-0148-4ef8-b66f-c5b8e5f5bab1",
   "metadata": {},
   "outputs": [
    {
     "name": "stderr",
     "output_type": "stream",
     "text": [
      "[nltk_data] Downloading package punkt_tab to\n",
      "[nltk_data]     C:\\Users\\anton\\AppData\\Roaming\\nltk_data...\n",
      "[nltk_data]   Package punkt_tab is already up-to-date!\n",
      "[nltk_data] Downloading package stopwords to\n",
      "[nltk_data]     C:\\Users\\anton\\AppData\\Roaming\\nltk_data...\n",
      "[nltk_data]   Unzipping corpora\\stopwords.zip.\n"
     ]
    },
    {
     "data": {
      "text/plain": [
       "True"
      ]
     },
     "execution_count": 112,
     "metadata": {},
     "output_type": "execute_result"
    }
   ],
   "source": [
    "nltk.download(\"punkt_tab\")\n",
    "nltk.download(\"stopwords\")"
   ]
  },
  {
   "cell_type": "code",
   "execution_count": 43,
   "id": "63701efa-a26b-410b-aa6f-e8d5d47f8861",
   "metadata": {},
   "outputs": [],
   "source": [
    "dicionario : Dict[str, int] = {}\n",
    "with open(\"C:\\\\git\\\\dados\\\\nlp\\\\lexico_v3.0.txt\", \"r\", encoding=\"utf-8\") as lexico:\n",
    "    linha = \" \"\n",
    "    while linha != \"\":\n",
    "        linha = lexico.readline()\n",
    "        campos = linha.split(\",\")\n",
    "        if len(campos) >= 3: \n",
    "            chave = campos[0]\n",
    "            valor = int(campos[2])\n",
    "            dicionario[ chave ] = valor"
   ]
  },
  {
   "cell_type": "code",
   "execution_count": 81,
   "id": "9c0f96d8-ee1f-493c-8455-1642caa2f2ed",
   "metadata": {},
   "outputs": [],
   "source": [
    "texto = \"\"\"rato roeu a roupa do rei de Roma,\n",
    "O rato roeu a roupa do rei da Rússia,\n",
    "O rato roeu a roupa do RodovaIho...\n",
    "O rato a roer roía\n",
    "E a rosa Rita Ramalho do rato a roer se ria.\n",
    "O rato roeu a roupa do rei de roma\n",
    "a rainha com raiva roeu o resto.\"\"\""
   ]
  },
  {
   "cell_type": "code",
   "execution_count": 83,
   "id": "d0af267a-0def-473d-9a32-f1e923474538",
   "metadata": {},
   "outputs": [],
   "source": [
    "texto = texto.lower()"
   ]
  },
  {
   "cell_type": "code",
   "execution_count": 85,
   "id": "b22de004-4f24-4472-b0a4-3d70d759b4bc",
   "metadata": {},
   "outputs": [],
   "source": [
    "# tokens = texto.split(\" \")\n",
    "# tokens"
   ]
  },
  {
   "cell_type": "code",
   "execution_count": 87,
   "id": "1e148cca-1bbe-4fb7-81af-be56502eadf2",
   "metadata": {},
   "outputs": [],
   "source": [
    "tokens = tokenize.word_tokenize(texto, language='portuguese')\n",
    "# tokens"
   ]
  },
  {
   "cell_type": "code",
   "execution_count": 118,
   "id": "9dad298d-82b6-4025-8b78-e8e68d356092",
   "metadata": {},
   "outputs": [],
   "source": [
    "language = \"portuguese\"\n",
    "lista_stopwords = stopwords.words(language)\n",
    "lista_stopwords.extend(['a', 'o', '...', ',', '.', 'e', 'se', 'do', 'da'])\n",
    "# Remoçao das Stop Words\n",
    "# stopwords = ['a', 'o', '...', ',', '.', 'e', 'se', 'do', 'da']"
   ]
  },
  {
   "cell_type": "code",
   "execution_count": 120,
   "id": "fcb4bcd6-1413-4894-8ef2-eab2874c6d75",
   "metadata": {},
   "outputs": [],
   "source": [
    "tokens_limpos = []\n",
    "for token in tokens:\n",
    "    if token not in lista_stopwords:\n",
    "        tokens_limpos.append(token)"
   ]
  },
  {
   "cell_type": "code",
   "execution_count": 124,
   "id": "929dd5c7-3961-4d3a-a133-aca0a610b1fa",
   "metadata": {},
   "outputs": [
    {
     "name": "stdout",
     "output_type": "stream",
     "text": [
      "Token => rato   Valor => 0\n",
      "Token => rato   Valor => 0\n",
      "Token => rato   Valor => 0\n",
      "Token => rato   Valor => 0\n",
      "Token => roer   Valor => -1\n",
      "Token => rato   Valor => 0\n",
      "Token => roer   Valor => -1\n",
      "Token => rato   Valor => 0\n",
      "Resultado da analise de sentimento deste texto ==>  -2\n"
     ]
    }
   ],
   "source": [
    "soma = 0\n",
    "for token in tokens_limpos:\n",
    "    if token in dicionario:\n",
    "        valor = dicionario[token]\n",
    "        soma += valor\n",
    "        print(f\"Token => {token}   Valor => {valor}\")\n",
    "print(\"Resultado da analise de sentimento deste texto ==> \", soma)"
   ]
  },
  {
   "cell_type": "code",
   "execution_count": 126,
   "id": "de7b1a7a-a93c-4201-8eb7-012db72abb8b",
   "metadata": {},
   "outputs": [
    {
     "name": "stdout",
     "output_type": "stream",
     "text": [
      "Tamanho do Texto ==>  32\n"
     ]
    }
   ],
   "source": [
    "tamanho_texto = len(tokens_limpos)\n",
    "print(\"Tamanho do Texto ==> \", tamanho_texto)"
   ]
  },
  {
   "cell_type": "code",
   "execution_count": 128,
   "id": "30e54646-132d-47b2-96db-b1c40df39eff",
   "metadata": {},
   "outputs": [],
   "source": [
    "vocabulario : List[str] = []\n",
    "for token in tokens_limpos:\n",
    "    if token not in vocabulario:\n",
    "        vocabulario.append(token)"
   ]
  },
  {
   "cell_type": "code",
   "execution_count": 130,
   "id": "b2f3488b-3e67-4505-90bb-d062d793b430",
   "metadata": {},
   "outputs": [
    {
     "name": "stdout",
     "output_type": "stream",
     "text": [
      "Vocabulario ==>  ['rato', 'roeu', 'roupa', 'rei', 'roma', 'rússia', 'rodovaiho', 'roer', 'roía', 'rosa', 'rita', 'ramalho', 'ria', 'rainha', 'raiva', 'resto']\n",
      "Tamanho do Vocabulario  ==>  16\n"
     ]
    }
   ],
   "source": [
    "print(\"Vocabulario ==> \", vocabulario)\n",
    "tamanho_vocabulario = len(vocabulario)\n",
    "print(\"Tamanho do Vocabulario  ==> \", tamanho_vocabulario)"
   ]
  },
  {
   "cell_type": "code",
   "execution_count": 132,
   "id": "ca736d60-5f4f-4eef-b972-8920fae514f3",
   "metadata": {},
   "outputs": [
    {
     "name": "stdout",
     "output_type": "stream",
     "text": [
      "Riqueza Lexical ==>  0.5\n"
     ]
    }
   ],
   "source": [
    "riqueza_lexical = tamanho_vocabulario / tamanho_texto\n",
    "print(\"Riqueza Lexical ==> \", riqueza_lexical)"
   ]
  },
  {
   "cell_type": "code",
   "execution_count": null,
   "id": "16ab6fd3-db35-4aff-aba4-abd5854d960a",
   "metadata": {},
   "outputs": [],
   "source": []
  }
 ],
 "metadata": {
  "kernelspec": {
   "display_name": "Python [conda env:base] *",
   "language": "python",
   "name": "conda-base-py"
  },
  "language_info": {
   "codemirror_mode": {
    "name": "ipython",
    "version": 3
   },
   "file_extension": ".py",
   "mimetype": "text/x-python",
   "name": "python",
   "nbconvert_exporter": "python",
   "pygments_lexer": "ipython3",
   "version": "3.12.7"
  }
 },
 "nbformat": 4,
 "nbformat_minor": 5
}
