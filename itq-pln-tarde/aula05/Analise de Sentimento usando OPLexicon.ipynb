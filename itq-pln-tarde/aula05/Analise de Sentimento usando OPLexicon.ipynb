{
 "cells": [
  {
   "cell_type": "code",
   "execution_count": 30,
   "id": "188b2c35-66df-4b8a-9f52-64e85a6d0cad",
   "metadata": {},
   "outputs": [],
   "source": [
    "import csv"
   ]
  },
  {
   "cell_type": "code",
   "execution_count": 1,
   "id": "ddd978df-9214-4602-abf5-f98a8bda1aef",
   "metadata": {},
   "outputs": [],
   "source": [
    "from typing import Dict, List, Tuple"
   ]
  },
  {
   "cell_type": "code",
   "execution_count": 2,
   "id": "2a4e6121-a16f-412b-9cc1-40b32bc30e7f",
   "metadata": {},
   "outputs": [],
   "source": [
    "import nltk\n",
    "from nltk.tokenize import word_tokenize"
   ]
  },
  {
   "cell_type": "code",
   "execution_count": 3,
   "id": "15945a19-2824-4d6e-a4da-3e0b526fb49a",
   "metadata": {},
   "outputs": [
    {
     "name": "stderr",
     "output_type": "stream",
     "text": [
      "[nltk_data] Downloading package punkt_tab to\n",
      "[nltk_data]     C:\\Users\\anton\\AppData\\Roaming\\nltk_data...\n",
      "[nltk_data]   Package punkt_tab is already up-to-date!\n"
     ]
    },
    {
     "data": {
      "text/plain": [
       "True"
      ]
     },
     "execution_count": 3,
     "metadata": {},
     "output_type": "execute_result"
    }
   ],
   "source": [
    "nltk.download('punkt_tab')"
   ]
  },
  {
   "cell_type": "markdown",
   "id": "c784ef61-a17b-41c1-b780-b13cdcacd712",
   "metadata": {},
   "source": [
    "## Carregando dicionario de palavras e sentimentos (Lexico)"
   ]
  },
  {
   "cell_type": "code",
   "execution_count": 4,
   "id": "488f0efa-5e35-4e74-91a1-272cdda6e5b9",
   "metadata": {},
   "outputs": [],
   "source": [
    "nome_arquivo_lexico = \"C:\\\\git\\\\dados\\\\nlp\\\\lexico_v3.0.txt\"\n",
    "lexicon : Dict[str, int] = {}"
   ]
  },
  {
   "cell_type": "code",
   "execution_count": 6,
   "id": "69deba4d-da87-4498-857e-f858d469ab8a",
   "metadata": {},
   "outputs": [],
   "source": [
    "with open(nome_arquivo_lexico, \"r\", encoding=\"utf-8\") as arquivo_lexico:\n",
    "    linha = \"-\"\n",
    "    while linha != \"\": \n",
    "        linha = arquivo_lexico.readline()\n",
    "        campos = linha.split(\",\")\n",
    "        if len(campos) >= 3:\n",
    "            #        palavra      peso (1, 0 ou -1)\n",
    "            lexicon[campos[0]] = int(campos[2])\n",
    "            \n",
    "            "
   ]
  },
  {
   "cell_type": "markdown",
   "id": "f0896f77-f4cb-494e-9eac-562edcad748a",
   "metadata": {},
   "source": [
    "## Criando função que analise os tokens a partir do Lexico"
   ]
  },
  {
   "cell_type": "code",
   "execution_count": 10,
   "id": "b77111db-909d-4776-93ad-1eecaf866cd5",
   "metadata": {},
   "outputs": [],
   "source": [
    "def analise_sentimento( tokens : List[str] ) -> Tuple[int, int]:\n",
    "    soma = 0\n",
    "    palavras_encontradas = 0\n",
    "    for token in tokens:\n",
    "        if token in lexicon:\n",
    "            valor = lexicon[token]\n",
    "            soma += valor\n",
    "            palavras_encontradas += 1\n",
    "    return (soma, palavras_encontradas)"
   ]
  },
  {
   "cell_type": "markdown",
   "id": "17e77fb8-8728-490f-8106-e56e9c028ddd",
   "metadata": {},
   "source": [
    "## Ler o arquivo com textos e sentimentos para testar a ferramenta"
   ]
  },
  {
   "cell_type": "code",
   "execution_count": 62,
   "id": "2bc1f6af-626d-4870-9528-3fc95dd753f1",
   "metadata": {},
   "outputs": [
    {
     "name": "stdout",
     "output_type": "stream",
     "text": [
      "True Positivo ==>  9\n",
      "True Negativo ==>  14\n",
      "False Positivo ==>  6\n",
      "False Negativo ==>  1\n",
      "Precisao ==>  0.6\n",
      "Recall ==>  0.9\n",
      "Acuracia ==>  0.7666666666666667\n"
     ]
    }
   ],
   "source": [
    "nome_arquivo = \"C:\\\\git\\\\dados\\\\nlp\\\\analise_sentimento_portugues.csv\"\n",
    "lista_final : List[Tuple[int, str]] = []\n",
    "TP = 0  # True Positivo era 1 e foi classificado como 1\n",
    "FP = 0  # False Positivo era 0 e foi classificado como 1\n",
    "TN = 0  # True Negativo era 0 e foi classificado como 0\n",
    "FN = 0  # False Negativo era 1 e foi classificado como 0\n",
    "\n",
    "with open(nome_arquivo, \"r\", encoding=\"utf-8\") as arquivo_textos:\n",
    "    # print(\"Linhas do arquivo ==> \", linhas_arquivo)\n",
    "    spamreader = csv.reader(arquivo_textos, delimiter=',', quotechar='\"')\n",
    "    for indice, row in enumerate(spamreader):\n",
    "        if indice > 0:\n",
    "            classificacao = 1 if row[0] == \"positivo\" else 0      # if row[0] == \"neutro\" else -1\n",
    "            texto = row[1]\n",
    "            texto = texto.lower()\n",
    "            tokens = word_tokenize(texto)\n",
    "            soma, palavras_encontradas = analise_sentimento( tokens )\n",
    "            resultado =  1 if soma > 0 else 0    #  if soma == 0 else -1\n",
    "            if classificacao == 1 and resultado == 1:\n",
    "                TP += 1\n",
    "            elif classificacao == 0 and resultado == 1:\n",
    "                FP += 1\n",
    "            elif classificacao == 0 and resultado == 0:\n",
    "                TN += 1\n",
    "            else:\n",
    "                FN += 1\n",
    "            lista_final.append( (classificacao, texto, resultado) )\n",
    "precisao = TP / (TP + FP)\n",
    "recall = TP / (TP + FN)\n",
    "acuracia = (TP + TN) / (TP + TN + FP + FN) \n",
    "# print(lista_final)\n",
    "print(\"True Positivo ==> \", TP)\n",
    "print(\"True Negativo ==> \", TN)\n",
    "print(\"False Positivo ==> \", FP)\n",
    "print(\"False Negativo ==> \", FN)\n",
    "print(\"Precisao ==> \", precisao)\n",
    "print(\"Recall ==> \", recall)\n",
    "print(\"Acuracia ==> \", acuracia)"
   ]
  },
  {
   "cell_type": "code",
   "execution_count": null,
   "id": "76601cab-8935-48f3-9401-5e8d29226b29",
   "metadata": {},
   "outputs": [],
   "source": []
  }
 ],
 "metadata": {
  "kernelspec": {
   "display_name": "Python [conda env:base] *",
   "language": "python",
   "name": "conda-base-py"
  },
  "language_info": {
   "codemirror_mode": {
    "name": "ipython",
    "version": 3
   },
   "file_extension": ".py",
   "mimetype": "text/x-python",
   "name": "python",
   "nbconvert_exporter": "python",
   "pygments_lexer": "ipython3",
   "version": "3.12.7"
  }
 },
 "nbformat": 4,
 "nbformat_minor": 5
}
