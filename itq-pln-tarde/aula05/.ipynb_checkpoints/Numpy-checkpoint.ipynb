{
 "cells": [
  {
   "cell_type": "code",
   "execution_count": 1,
   "id": "ca51996a-e610-443f-82fe-1eb96fff080f",
   "metadata": {},
   "outputs": [],
   "source": [
    "#   !pip install numpy"
   ]
  },
  {
   "cell_type": "code",
   "execution_count": 5,
   "id": "d404f6d7-6752-4360-81d1-45ef60535b83",
   "metadata": {},
   "outputs": [],
   "source": [
    "import numpy as np"
   ]
  },
  {
   "cell_type": "code",
   "execution_count": 5,
   "id": "77d13364-bbe8-4c60-a2f6-73cd90becccb",
   "metadata": {},
   "outputs": [
    {
     "data": {
      "text/plain": [
       "array([10, 20, 30])"
      ]
     },
     "execution_count": 5,
     "metadata": {},
     "output_type": "execute_result"
    }
   ],
   "source": [
    "lista = [10, 20, 30]\n",
    "vetor1 = np.array( lista )\n",
    "vetor1"
   ]
  },
  {
   "cell_type": "code",
   "execution_count": 7,
   "id": "ce7c778a-af5d-46e5-aa6c-0ef448344db9",
   "metadata": {},
   "outputs": [
    {
     "data": {
      "text/plain": [
       "array([[10, 20],\n",
       "       [30, 40]])"
      ]
     },
     "execution_count": 7,
     "metadata": {},
     "output_type": "execute_result"
    }
   ],
   "source": [
    "matriz1 = np.array([[10, 20], [30, 40]] )\n",
    "matriz1"
   ]
  },
  {
   "cell_type": "code",
   "execution_count": 17,
   "id": "a519e2a1-0ed7-4410-800d-7dbc91e725b1",
   "metadata": {},
   "outputs": [],
   "source": [
    "escalar1 = np.array(1)"
   ]
  },
  {
   "cell_type": "code",
   "execution_count": 19,
   "id": "d9d19ddb-4272-4ba3-bbc8-80dd998371b4",
   "metadata": {},
   "outputs": [],
   "source": [
    "vetor2 = np.array( [1,2 ,3, 4,5], dtype=np.float64 )"
   ]
  },
  {
   "cell_type": "code",
   "execution_count": 23,
   "id": "0924c11c-9d4d-47e7-b421-abb942d3a209",
   "metadata": {},
   "outputs": [
    {
     "data": {
      "text/plain": [
       "(5,)"
      ]
     },
     "execution_count": 23,
     "metadata": {},
     "output_type": "execute_result"
    }
   ],
   "source": [
    "vetor2.shape    # Formato quantidade linhas, colunas"
   ]
  },
  {
   "cell_type": "code",
   "execution_count": 27,
   "id": "0b6b5233-1e75-4623-af09-57df6dd41283",
   "metadata": {},
   "outputs": [
    {
     "data": {
      "text/plain": [
       "1"
      ]
     },
     "execution_count": 27,
     "metadata": {},
     "output_type": "execute_result"
    }
   ],
   "source": [
    "vetor2.ndim"
   ]
  },
  {
   "cell_type": "code",
   "execution_count": 29,
   "id": "b41c891d-17fe-49f8-b557-ce73ecb88abd",
   "metadata": {},
   "outputs": [
    {
     "data": {
      "text/plain": [
       "0"
      ]
     },
     "execution_count": 29,
     "metadata": {},
     "output_type": "execute_result"
    }
   ],
   "source": [
    "escalar1.ndim"
   ]
  },
  {
   "cell_type": "code",
   "execution_count": 31,
   "id": "cbfb8bf2-3d0e-4d1c-afc2-c0a12b1fc79b",
   "metadata": {},
   "outputs": [
    {
     "data": {
      "text/plain": [
       "2"
      ]
     },
     "execution_count": 31,
     "metadata": {},
     "output_type": "execute_result"
    }
   ],
   "source": [
    "matriz1.ndim"
   ]
  },
  {
   "cell_type": "code",
   "execution_count": 33,
   "id": "71a420bd-fa8f-4a9e-b9a5-1ec644c50171",
   "metadata": {},
   "outputs": [
    {
     "data": {
      "text/plain": [
       "(2, 2)"
      ]
     },
     "execution_count": 33,
     "metadata": {},
     "output_type": "execute_result"
    }
   ],
   "source": [
    "matriz1.shape"
   ]
  },
  {
   "cell_type": "code",
   "execution_count": 35,
   "id": "28b4f750-3314-41dd-a2d3-97f9378a7735",
   "metadata": {},
   "outputs": [
    {
     "data": {
      "text/plain": [
       "dtype('int32')"
      ]
     },
     "execution_count": 35,
     "metadata": {},
     "output_type": "execute_result"
    }
   ],
   "source": [
    "matriz1.dtype"
   ]
  },
  {
   "cell_type": "code",
   "execution_count": 39,
   "id": "9a042571-bb70-4066-a862-af035acb825f",
   "metadata": {},
   "outputs": [
    {
     "data": {
      "text/plain": [
       "array([-1.00000000e+01, -9.90000000e+00, -9.80000000e+00, -9.70000000e+00,\n",
       "       -9.60000000e+00, -9.50000000e+00, -9.40000000e+00, -9.30000000e+00,\n",
       "       -9.20000000e+00, -9.10000000e+00, -9.00000000e+00, -8.90000000e+00,\n",
       "       -8.80000000e+00, -8.70000000e+00, -8.60000000e+00, -8.50000000e+00,\n",
       "       -8.40000000e+00, -8.30000000e+00, -8.20000000e+00, -8.10000000e+00,\n",
       "       -8.00000000e+00, -7.90000000e+00, -7.80000000e+00, -7.70000000e+00,\n",
       "       -7.60000000e+00, -7.50000000e+00, -7.40000000e+00, -7.30000000e+00,\n",
       "       -7.20000000e+00, -7.10000000e+00, -7.00000000e+00, -6.90000000e+00,\n",
       "       -6.80000000e+00, -6.70000000e+00, -6.60000000e+00, -6.50000000e+00,\n",
       "       -6.40000000e+00, -6.30000000e+00, -6.20000000e+00, -6.10000000e+00,\n",
       "       -6.00000000e+00, -5.90000000e+00, -5.80000000e+00, -5.70000000e+00,\n",
       "       -5.60000000e+00, -5.50000000e+00, -5.40000000e+00, -5.30000000e+00,\n",
       "       -5.20000000e+00, -5.10000000e+00, -5.00000000e+00, -4.90000000e+00,\n",
       "       -4.80000000e+00, -4.70000000e+00, -4.60000000e+00, -4.50000000e+00,\n",
       "       -4.40000000e+00, -4.30000000e+00, -4.20000000e+00, -4.10000000e+00,\n",
       "       -4.00000000e+00, -3.90000000e+00, -3.80000000e+00, -3.70000000e+00,\n",
       "       -3.60000000e+00, -3.50000000e+00, -3.40000000e+00, -3.30000000e+00,\n",
       "       -3.20000000e+00, -3.10000000e+00, -3.00000000e+00, -2.90000000e+00,\n",
       "       -2.80000000e+00, -2.70000000e+00, -2.60000000e+00, -2.50000000e+00,\n",
       "       -2.40000000e+00, -2.30000000e+00, -2.20000000e+00, -2.10000000e+00,\n",
       "       -2.00000000e+00, -1.90000000e+00, -1.80000000e+00, -1.70000000e+00,\n",
       "       -1.60000000e+00, -1.50000000e+00, -1.40000000e+00, -1.30000000e+00,\n",
       "       -1.20000000e+00, -1.10000000e+00, -1.00000000e+00, -9.00000000e-01,\n",
       "       -8.00000000e-01, -7.00000000e-01, -6.00000000e-01, -5.00000000e-01,\n",
       "       -4.00000000e-01, -3.00000000e-01, -2.00000000e-01, -1.00000000e-01,\n",
       "       -3.55271368e-14,  1.00000000e-01,  2.00000000e-01,  3.00000000e-01,\n",
       "        4.00000000e-01,  5.00000000e-01,  6.00000000e-01,  7.00000000e-01,\n",
       "        8.00000000e-01,  9.00000000e-01,  1.00000000e+00,  1.10000000e+00,\n",
       "        1.20000000e+00,  1.30000000e+00,  1.40000000e+00,  1.50000000e+00,\n",
       "        1.60000000e+00,  1.70000000e+00,  1.80000000e+00,  1.90000000e+00,\n",
       "        2.00000000e+00,  2.10000000e+00,  2.20000000e+00,  2.30000000e+00,\n",
       "        2.40000000e+00,  2.50000000e+00,  2.60000000e+00,  2.70000000e+00,\n",
       "        2.80000000e+00,  2.90000000e+00,  3.00000000e+00,  3.10000000e+00,\n",
       "        3.20000000e+00,  3.30000000e+00,  3.40000000e+00,  3.50000000e+00,\n",
       "        3.60000000e+00,  3.70000000e+00,  3.80000000e+00,  3.90000000e+00,\n",
       "        4.00000000e+00,  4.10000000e+00,  4.20000000e+00,  4.30000000e+00,\n",
       "        4.40000000e+00,  4.50000000e+00,  4.60000000e+00,  4.70000000e+00,\n",
       "        4.80000000e+00,  4.90000000e+00,  5.00000000e+00,  5.10000000e+00,\n",
       "        5.20000000e+00,  5.30000000e+00,  5.40000000e+00,  5.50000000e+00,\n",
       "        5.60000000e+00,  5.70000000e+00,  5.80000000e+00,  5.90000000e+00,\n",
       "        6.00000000e+00,  6.10000000e+00,  6.20000000e+00,  6.30000000e+00,\n",
       "        6.40000000e+00,  6.50000000e+00,  6.60000000e+00,  6.70000000e+00,\n",
       "        6.80000000e+00,  6.90000000e+00,  7.00000000e+00,  7.10000000e+00,\n",
       "        7.20000000e+00,  7.30000000e+00,  7.40000000e+00,  7.50000000e+00,\n",
       "        7.60000000e+00,  7.70000000e+00,  7.80000000e+00,  7.90000000e+00,\n",
       "        8.00000000e+00,  8.10000000e+00,  8.20000000e+00,  8.30000000e+00,\n",
       "        8.40000000e+00,  8.50000000e+00,  8.60000000e+00,  8.70000000e+00,\n",
       "        8.80000000e+00,  8.90000000e+00,  9.00000000e+00,  9.10000000e+00,\n",
       "        9.20000000e+00,  9.30000000e+00,  9.40000000e+00,  9.50000000e+00,\n",
       "        9.60000000e+00,  9.70000000e+00,  9.80000000e+00,  9.90000000e+00,\n",
       "        1.00000000e+01])"
      ]
     },
     "execution_count": 39,
     "metadata": {},
     "output_type": "execute_result"
    }
   ],
   "source": [
    "np.arange(-10, 10.1, 0.1)"
   ]
  },
  {
   "cell_type": "code",
   "execution_count": 55,
   "id": "82058b59-26be-464c-90e4-7cd148edff4c",
   "metadata": {},
   "outputs": [
    {
     "data": {
      "text/plain": [
       "array([[1., 1., 1., 1.],\n",
       "       [1., 1., 1., 1.],\n",
       "       [1., 1., 1., 1.],\n",
       "       [1., 1., 1., 1.],\n",
       "       [1., 1., 1., 1.]])"
      ]
     },
     "execution_count": 55,
     "metadata": {},
     "output_type": "execute_result"
    }
   ],
   "source": [
    "matriz2 = np.ones( (5, 4) )\n",
    "matriz2"
   ]
  },
  {
   "cell_type": "code",
   "execution_count": 57,
   "id": "7f1c151b-ba4f-42ee-8a8a-a8ecbffff2ec",
   "metadata": {},
   "outputs": [
    {
     "data": {
      "text/plain": [
       "array([[0., 0., 0., 0.],\n",
       "       [0., 0., 0., 0.],\n",
       "       [0., 0., 0., 0.],\n",
       "       [0., 0., 0., 0.],\n",
       "       [0., 0., 0., 0.]])"
      ]
     },
     "execution_count": 57,
     "metadata": {},
     "output_type": "execute_result"
    }
   ],
   "source": [
    "matriz3 = np.zeros( (5, 4) )\n",
    "matriz3"
   ]
  },
  {
   "cell_type": "code",
   "execution_count": 53,
   "id": "107d91d6-723f-460e-ad29-4316b0ef2006",
   "metadata": {},
   "outputs": [],
   "source": [
    "matriz4 = matriz3.astype(np.int32)"
   ]
  },
  {
   "cell_type": "code",
   "execution_count": 77,
   "id": "d1329e96-942e-4eb6-b68c-78b9b9ccb8de",
   "metadata": {},
   "outputs": [
    {
     "data": {
      "text/plain": [
       "array([[1., 1., 1., 1.],\n",
       "       [1., 1., 1., 1.],\n",
       "       [1., 1., 1., 1.],\n",
       "       [1., 1., 1., 1.],\n",
       "       [1., 1., 1., 1.],\n",
       "       [0., 0., 0., 0.],\n",
       "       [0., 0., 0., 0.],\n",
       "       [0., 0., 0., 0.],\n",
       "       [0., 0., 0., 0.],\n",
       "       [0., 0., 0., 0.],\n",
       "       [0., 0., 0., 0.],\n",
       "       [0., 0., 0., 0.],\n",
       "       [0., 0., 0., 0.],\n",
       "       [0., 0., 0., 0.],\n",
       "       [0., 0., 0., 0.]])"
      ]
     },
     "execution_count": 77,
     "metadata": {},
     "output_type": "execute_result"
    }
   ],
   "source": [
    "np.concatenate( (matriz2, matriz3, matriz4), axis=0)"
   ]
  },
  {
   "cell_type": "code",
   "execution_count": 65,
   "id": "3d1c7861-2d4c-4e13-9008-85c0f2d77e71",
   "metadata": {},
   "outputs": [
    {
     "data": {
      "text/plain": [
       "array([[0., 0., 0., 0.],\n",
       "       [0., 0., 0., 0.],\n",
       "       [0., 0., 0., 0.],\n",
       "       [0., 0., 0., 0.],\n",
       "       [0., 0., 0., 0.]])"
      ]
     },
     "execution_count": 65,
     "metadata": {},
     "output_type": "execute_result"
    }
   ],
   "source": [
    "np.zeros_like( matriz2 ) "
   ]
  },
  {
   "cell_type": "code",
   "execution_count": 67,
   "id": "96c11cdc-36b3-4d9b-b14b-bdd73fba776c",
   "metadata": {},
   "outputs": [
    {
     "data": {
      "text/plain": [
       "array([[0.1637494 , 0.7984767 , 0.26185292],\n",
       "       [0.42175684, 0.55608864, 0.50769973],\n",
       "       [0.32660607, 0.40824119, 0.89147605],\n",
       "       [0.33925519, 0.14400495, 0.82551679],\n",
       "       [0.35682546, 0.43253092, 0.83525595],\n",
       "       [0.6594919 , 0.37295052, 0.43323293]])"
      ]
     },
     "execution_count": 67,
     "metadata": {},
     "output_type": "execute_result"
    }
   ],
   "source": [
    "np.random.random( (6, 3) )"
   ]
  },
  {
   "cell_type": "code",
   "execution_count": 105,
   "id": "760e86ae-7396-456f-a02b-70c92ed0c78c",
   "metadata": {},
   "outputs": [
    {
     "data": {
      "text/plain": [
       "array([[ 9,  8,  8],\n",
       "       [12, 14, 15],\n",
       "       [ 9,  3,  9],\n",
       "       [ 6,  7,  2],\n",
       "       [ 7, 18, 18],\n",
       "       [14,  5, 11]])"
      ]
     },
     "execution_count": 105,
     "metadata": {},
     "output_type": "execute_result"
    }
   ],
   "source": [
    "matriz6 = np.random.randint(  0, 20, (6, 3)  )\n",
    "matriz6"
   ]
  },
  {
   "cell_type": "code",
   "execution_count": 107,
   "id": "78d44c4c-266c-4fac-b90f-24514de3ad87",
   "metadata": {},
   "outputs": [
    {
     "data": {
      "text/plain": [
       "array([[1., 0., 0., 0., 0., 0.],\n",
       "       [0., 1., 0., 0., 0., 0.],\n",
       "       [0., 0., 1., 0., 0., 0.],\n",
       "       [0., 0., 0., 1., 0., 0.],\n",
       "       [0., 0., 0., 0., 1., 0.],\n",
       "       [0., 0., 0., 0., 0., 1.]])"
      ]
     },
     "execution_count": 107,
     "metadata": {},
     "output_type": "execute_result"
    }
   ],
   "source": [
    "np.eye( 6 )"
   ]
  },
  {
   "cell_type": "code",
   "execution_count": 109,
   "id": "47bc81f8-90b3-433b-a175-10b95fc29dec",
   "metadata": {},
   "outputs": [
    {
     "data": {
      "text/plain": [
       "array([[ 9,  8,  8, 12, 14, 15],\n",
       "       [ 9,  3,  9,  6,  7,  2],\n",
       "       [ 7, 18, 18, 14,  5, 11]])"
      ]
     },
     "execution_count": 109,
     "metadata": {},
     "output_type": "execute_result"
    }
   ],
   "source": [
    "matriz6.reshape(3, 6)"
   ]
  },
  {
   "cell_type": "code",
   "execution_count": 111,
   "id": "798e0c8b-1bc3-4b2d-81b7-d96979ffac85",
   "metadata": {},
   "outputs": [
    {
     "data": {
      "text/plain": [
       "array([[ 9,  8,  8],\n",
       "       [12, 14, 15],\n",
       "       [ 9,  3,  9],\n",
       "       [ 6,  7,  2],\n",
       "       [ 7, 18, 18],\n",
       "       [14,  5, 11]])"
      ]
     },
     "execution_count": 111,
     "metadata": {},
     "output_type": "execute_result"
    }
   ],
   "source": [
    "matriz6"
   ]
  },
  {
   "cell_type": "code",
   "execution_count": 113,
   "id": "c9365f0a-7d6f-4cb1-ac42-c5b07e0f0434",
   "metadata": {},
   "outputs": [
    {
     "data": {
      "text/plain": [
       "array([[ 9, 12,  9,  6,  7, 14],\n",
       "       [ 8, 14,  3,  7, 18,  5],\n",
       "       [ 8, 15,  9,  2, 18, 11]])"
      ]
     },
     "execution_count": 113,
     "metadata": {},
     "output_type": "execute_result"
    }
   ],
   "source": [
    "matriz7 = matriz6.T.copy()\n",
    "matriz7 "
   ]
  },
  {
   "cell_type": "code",
   "execution_count": 115,
   "id": "b723c171-64e1-4851-9ca2-016006817db5",
   "metadata": {},
   "outputs": [],
   "source": [
    "matriz6 += 5 "
   ]
  },
  {
   "cell_type": "code",
   "execution_count": 117,
   "id": "8d6f3f8d-d52b-4155-b47e-19ab4ea52f5c",
   "metadata": {},
   "outputs": [
    {
     "data": {
      "text/plain": [
       "array([[14, 13, 13],\n",
       "       [17, 19, 20],\n",
       "       [14,  8, 14],\n",
       "       [11, 12,  7],\n",
       "       [12, 23, 23],\n",
       "       [19, 10, 16]])"
      ]
     },
     "execution_count": 117,
     "metadata": {},
     "output_type": "execute_result"
    }
   ],
   "source": [
    "matriz6"
   ]
  },
  {
   "cell_type": "code",
   "execution_count": 3,
   "id": "c2f70f73-7dc2-483b-8b4e-6878a3e795d7",
   "metadata": {},
   "outputs": [
    {
     "ename": "NameError",
     "evalue": "name 'matriz7' is not defined",
     "output_type": "error",
     "traceback": [
      "\u001b[1;31m---------------------------------------------------------------------------\u001b[0m",
      "\u001b[1;31mNameError\u001b[0m                                 Traceback (most recent call last)",
      "Cell \u001b[1;32mIn[3], line 1\u001b[0m\n\u001b[1;32m----> 1\u001b[0m matriz7\n",
      "\u001b[1;31mNameError\u001b[0m: name 'matriz7' is not defined"
     ]
    }
   ],
   "source": [
    "matriz7"
   ]
  },
  {
   "cell_type": "code",
   "execution_count": 89,
   "id": "725bbce1-adda-482b-b7bc-06a96ca654fa",
   "metadata": {},
   "outputs": [
    {
     "data": {
      "text/plain": [
       "array([15,  2, 14, 17, 16,  9,  8, 18, 16, 17,  7, 15, 15, 19,  6, 12,  1,\n",
       "       11])"
      ]
     },
     "execution_count": 89,
     "metadata": {},
     "output_type": "execute_result"
    }
   ],
   "source": [
    "matriz6.ravel()"
   ]
  },
  {
   "cell_type": "code",
   "execution_count": 93,
   "id": "b2b4468c-14cf-4574-a754-628f98cf7877",
   "metadata": {},
   "outputs": [
    {
     "ename": "ValueError",
     "evalue": "cannot reshape array of size 18 into shape (4,newaxis)",
     "output_type": "error",
     "traceback": [
      "\u001b[1;31m---------------------------------------------------------------------------\u001b[0m",
      "\u001b[1;31mValueError\u001b[0m                                Traceback (most recent call last)",
      "Cell \u001b[1;32mIn[93], line 1\u001b[0m\n\u001b[1;32m----> 1\u001b[0m matriz6\u001b[38;5;241m.\u001b[39mreshape(\u001b[38;5;241m4\u001b[39m, \u001b[38;5;241m-\u001b[39m\u001b[38;5;241m1\u001b[39m)\n",
      "\u001b[1;31mValueError\u001b[0m: cannot reshape array of size 18 into shape (4,newaxis)"
     ]
    }
   ],
   "source": [
    "matriz6.reshape(4, -1)"
   ]
  },
  {
   "cell_type": "code",
   "execution_count": 121,
   "id": "dce6581c-1b4f-46d5-ac59-ebc1192906e7",
   "metadata": {},
   "outputs": [],
   "source": [
    "np.savez(\"matriz.npz\", a=matriz7)"
   ]
  },
  {
   "cell_type": "code",
   "execution_count": 13,
   "id": "3473f01c-130d-4de5-8f17-74e2ad924e7b",
   "metadata": {},
   "outputs": [
    {
     "data": {
      "text/plain": [
       "array([[ 9, 12,  9,  6,  7, 14],\n",
       "       [ 8, 14,  3,  7, 18,  5],\n",
       "       [ 8, 15,  9,  2, 18, 11]])"
      ]
     },
     "execution_count": 13,
     "metadata": {},
     "output_type": "execute_result"
    }
   ],
   "source": [
    "data = np.load(\"matriz.npz\")\n",
    "matriz7 = data['a']\n",
    "matriz7"
   ]
  },
  {
   "cell_type": "code",
   "execution_count": 21,
   "id": "a7b5f7e3-15fa-4251-839f-7ea1e6f88a43",
   "metadata": {},
   "outputs": [
    {
     "data": {
      "text/plain": [
       "array([[False,  True, False, False, False,  True],\n",
       "       [False,  True, False, False,  True, False],\n",
       "       [False,  True, False, False,  True,  True]])"
      ]
     },
     "execution_count": 21,
     "metadata": {},
     "output_type": "execute_result"
    }
   ],
   "source": [
    "matriz8 = matriz7 > 10\n",
    "matriz8"
   ]
  },
  {
   "cell_type": "code",
   "execution_count": 55,
   "id": "10e38004-82aa-4852-97a4-2295e2bd7ba7",
   "metadata": {},
   "outputs": [
    {
     "data": {
      "text/plain": [
       "array([[0, 1, 0, 0, 0, 1],\n",
       "       [0, 1, 0, 0, 1, 0],\n",
       "       [0, 1, 0, 0, 1, 1]])"
      ]
     },
     "execution_count": 55,
     "metadata": {},
     "output_type": "execute_result"
    }
   ],
   "source": [
    "matriz9 = matriz8.astype(np.int32)\n",
    "matriz9"
   ]
  },
  {
   "cell_type": "code",
   "execution_count": 57,
   "id": "02e33c1a-3a99-4a40-80de-d7cbaf1cbf30",
   "metadata": {},
   "outputs": [
    {
     "data": {
      "text/plain": [
       "array([[ 0, -1,  0,  0,  0, -1],\n",
       "       [ 0, -1,  0,  0, -1,  0],\n",
       "       [ 0, -1,  0,  0, -1, -1]])"
      ]
     },
     "execution_count": 57,
     "metadata": {},
     "output_type": "execute_result"
    }
   ],
   "source": [
    "matriz9 *= -1\n",
    "matriz9"
   ]
  },
  {
   "cell_type": "code",
   "execution_count": 59,
   "id": "0a571bd1-946a-4d10-9a05-47555ce81958",
   "metadata": {},
   "outputs": [
    {
     "name": "stderr",
     "output_type": "stream",
     "text": [
      "C:\\Users\\anton\\AppData\\Local\\Temp\\ipykernel_64128\\1980532503.py:1: RuntimeWarning: invalid value encountered in sqrt\n",
      "  matriz10 = np.sqrt( matriz9 )\n"
     ]
    },
    {
     "data": {
      "text/plain": [
       "array([[ 0., nan,  0.,  0.,  0., nan],\n",
       "       [ 0., nan,  0.,  0., nan,  0.],\n",
       "       [ 0., nan,  0.,  0., nan, nan]])"
      ]
     },
     "execution_count": 59,
     "metadata": {},
     "output_type": "execute_result"
    }
   ],
   "source": [
    "matriz10 = np.sqrt( matriz9 )\n",
    "matriz10"
   ]
  },
  {
   "cell_type": "code",
   "execution_count": 61,
   "id": "259d53c7-fb61-417a-9d45-c731c8d7b5c2",
   "metadata": {},
   "outputs": [
    {
     "ename": "AttributeError",
     "evalue": "'numpy.ndarray' object has no attribute 'isnan'",
     "output_type": "error",
     "traceback": [
      "\u001b[1;31m---------------------------------------------------------------------------\u001b[0m",
      "\u001b[1;31mAttributeError\u001b[0m                            Traceback (most recent call last)",
      "Cell \u001b[1;32mIn[61], line 1\u001b[0m\n\u001b[1;32m----> 1\u001b[0m matriz10\u001b[38;5;241m.\u001b[39misnan\n",
      "\u001b[1;31mAttributeError\u001b[0m: 'numpy.ndarray' object has no attribute 'isnan'"
     ]
    }
   ],
   "source": [
    "matriz10.isnan "
   ]
  },
  {
   "cell_type": "code",
   "execution_count": 63,
   "id": "ab337be8-8ac4-4e5f-9e9a-db4573e185b1",
   "metadata": {},
   "outputs": [
    {
     "data": {
      "text/plain": [
       "array([[False,  True, False, False, False,  True],\n",
       "       [False,  True, False, False,  True, False],\n",
       "       [False,  True, False, False,  True,  True]])"
      ]
     },
     "execution_count": 63,
     "metadata": {},
     "output_type": "execute_result"
    }
   ],
   "source": [
    "np.isnan(matriz10)"
   ]
  },
  {
   "cell_type": "code",
   "execution_count": 67,
   "id": "b92d02d4-60b6-419a-a5df-7208a6c3a211",
   "metadata": {},
   "outputs": [
    {
     "data": {
      "text/plain": [
       "array([[1.        , 0.54030231, 1.        , 1.        , 1.        ,\n",
       "        0.54030231],\n",
       "       [1.        , 0.54030231, 1.        , 1.        , 0.54030231,\n",
       "        1.        ],\n",
       "       [1.        , 0.54030231, 1.        , 1.        , 0.54030231,\n",
       "        0.54030231]])"
      ]
     },
     "execution_count": 67,
     "metadata": {},
     "output_type": "execute_result"
    }
   ],
   "source": [
    "np.cos(matriz9)"
   ]
  },
  {
   "cell_type": "code",
   "execution_count": 77,
   "id": "5da3482c-38e4-4628-83d0-f27f53eb3c41",
   "metadata": {},
   "outputs": [
    {
     "data": {
      "text/plain": [
       "array([[ 0, -1,  0,  0,  0, -1],\n",
       "       [ 0, -1,  0,  0, -1,  0],\n",
       "       [ 0, -1,  0,  0, -1, -1]])"
      ]
     },
     "execution_count": 77,
     "metadata": {},
     "output_type": "execute_result"
    }
   ],
   "source": [
    "matriz9"
   ]
  },
  {
   "cell_type": "code",
   "execution_count": 81,
   "id": "a63a7a52-c6d9-4d74-badd-cfa3d9d3030b",
   "metadata": {},
   "outputs": [
    {
     "data": {
      "text/plain": [
       "array([ 0,  0, -1])"
      ]
     },
     "execution_count": 81,
     "metadata": {},
     "output_type": "execute_result"
    }
   ],
   "source": [
    "matriz9[0, -3:]"
   ]
  },
  {
   "cell_type": "code",
   "execution_count": 83,
   "id": "7c76698f-fdda-4457-8707-1744b683503d",
   "metadata": {},
   "outputs": [
    {
     "data": {
      "text/plain": [
       "array([-1,  0, -1])"
      ]
     },
     "execution_count": 83,
     "metadata": {},
     "output_type": "execute_result"
    }
   ],
   "source": [
    "matriz9[ : , -1]"
   ]
  },
  {
   "cell_type": "code",
   "execution_count": 85,
   "id": "77dbf309-24cf-4510-81ec-d4496a9ccb48",
   "metadata": {},
   "outputs": [],
   "source": [
    "matriz9[matriz9 == 0] = 10"
   ]
  },
  {
   "cell_type": "code",
   "execution_count": 87,
   "id": "f8e352df-8dd9-45bf-8dc6-93eb348416b3",
   "metadata": {},
   "outputs": [
    {
     "data": {
      "text/plain": [
       "array([[10, -1, 10, 10, 10, -1],\n",
       "       [10, -1, 10, 10, -1, 10],\n",
       "       [10, -1, 10, 10, -1, -1]])"
      ]
     },
     "execution_count": 87,
     "metadata": {},
     "output_type": "execute_result"
    }
   ],
   "source": [
    "matriz9"
   ]
  },
  {
   "cell_type": "code",
   "execution_count": 93,
   "id": "6ddf5876-75dc-464e-b89f-19dfaaf8496f",
   "metadata": {},
   "outputs": [
    {
     "data": {
      "text/plain": [
       "array([38, 38, 27])"
      ]
     },
     "execution_count": 93,
     "metadata": {},
     "output_type": "execute_result"
    }
   ],
   "source": [
    "matriz9.sum(axis=1)"
   ]
  },
  {
   "cell_type": "code",
   "execution_count": null,
   "id": "3890e967-cd21-439a-bcc5-ef0ecfab463d",
   "metadata": {},
   "outputs": [],
   "source": []
  }
 ],
 "metadata": {
  "kernelspec": {
   "display_name": "Python [conda env:base] *",
   "language": "python",
   "name": "conda-base-py"
  },
  "language_info": {
   "codemirror_mode": {
    "name": "ipython",
    "version": 3
   },
   "file_extension": ".py",
   "mimetype": "text/x-python",
   "name": "python",
   "nbconvert_exporter": "python",
   "pygments_lexer": "ipython3",
   "version": "3.12.7"
  }
 },
 "nbformat": 4,
 "nbformat_minor": 5
}
