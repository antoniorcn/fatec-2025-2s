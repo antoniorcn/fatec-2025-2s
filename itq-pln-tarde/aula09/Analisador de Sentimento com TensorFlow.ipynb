{
 "cells": [
  {
   "cell_type": "code",
   "execution_count": 3,
   "id": "6b62f0ba-a626-4049-b37d-ec675405553f",
   "metadata": {},
   "outputs": [],
   "source": [
    "import pandas as pd\n",
    "import numpy as np"
   ]
  },
  {
   "cell_type": "code",
   "execution_count": 123,
   "id": "182021fd-99b5-45f2-a14c-02abe929cd30",
   "metadata": {},
   "outputs": [],
   "source": [
    "import tensorflow as tf\n",
    "from tensorflow.keras import Sequential\n",
    "from tensorflow.keras.layers import Dense, Input"
   ]
  },
  {
   "cell_type": "code",
   "execution_count": 11,
   "id": "6100f68d-1e00-492b-b17e-cd005bb373c9",
   "metadata": {},
   "outputs": [],
   "source": [
    "from sklearn.feature_extraction.text import CountVectorizer"
   ]
  },
  {
   "cell_type": "code",
   "execution_count": 101,
   "id": "2e05b448-d4d1-4960-a0f0-d53ca7fd9d68",
   "metadata": {},
   "outputs": [
    {
     "data": {
      "text/plain": [
       "(27481, 10)"
      ]
     },
     "execution_count": 101,
     "metadata": {},
     "output_type": "execute_result"
    }
   ],
   "source": [
    "df_train = pd.read_csv(\"C:\\\\git\\\\dados\\\\nlp\\\\kaggle-sentiment\\\\train.csv\", encoding=\"latin1\")\n",
    "df_train[\"text\"] = df_train[\"text\"].replace({np.nan: \"\"})\n",
    "df_train.shape"
   ]
  },
  {
   "cell_type": "code",
   "execution_count": 103,
   "id": "717c47f1-8e07-40d0-9c21-ed0ad2dd3e30",
   "metadata": {},
   "outputs": [
    {
     "data": {
      "text/plain": [
       "(4815, 9)"
      ]
     },
     "execution_count": 103,
     "metadata": {},
     "output_type": "execute_result"
    }
   ],
   "source": [
    "df_test = pd.read_csv(\"C:\\\\git\\\\dados\\\\nlp\\\\kaggle-sentiment\\\\test.csv\", encoding=\"latin1\")\n",
    "df_test[\"text\"] = df_test[\"text\"].replace({np.nan: \"\"})\n",
    "df_test.shape"
   ]
  },
  {
   "cell_type": "code",
   "execution_count": 105,
   "id": "80c9c780-79e1-42d3-b6ce-525856a86fae",
   "metadata": {},
   "outputs": [],
   "source": [
    "df = pd.concat( [df_train, df_test] )"
   ]
  },
  {
   "cell_type": "code",
   "execution_count": 107,
   "id": "51b258e6-e92b-4479-9309-b00359a065a8",
   "metadata": {},
   "outputs": [
    {
     "name": "stderr",
     "output_type": "stream",
     "text": [
      "C:\\Users\\anton\\AppData\\Local\\Temp\\ipykernel_26144\\1959351941.py:1: FutureWarning: Downcasting behavior in `replace` is deprecated and will be removed in a future version. To retain the old behavior, explicitly call `result.infer_objects(copy=False)`. To opt-in to the future behavior, set `pd.set_option('future.no_silent_downcasting', True)`\n",
      "  df[\"output\"] = df[\"sentiment\"].replace({\"neutral\": 0, \"negative\": 0, \"positive\": 1})\n"
     ]
    }
   ],
   "source": [
    "df[\"output\"] = df[\"sentiment\"].replace({\"neutral\": 0, \"negative\": 0, \"positive\": 1})"
   ]
  },
  {
   "cell_type": "code",
   "execution_count": 109,
   "id": "4ab00df2-061d-4b77-8029-8526684126ef",
   "metadata": {},
   "outputs": [],
   "source": [
    "vetorizador = CountVectorizer(max_features=1000, binary=True, lowercase=True)\n",
    "# deixar 5 \n",
    "# raiva 1\n",
    "# [0, 0, 0, 0, 0, 0, 1]      raiva  - 1\n",
    "# [0, 0, 1, 0, 0, 0, 0]      deixar - 5 "
   ]
  },
  {
   "cell_type": "code",
   "execution_count": 111,
   "id": "24994125-b486-4343-af53-e3379e1d5516",
   "metadata": {},
   "outputs": [],
   "source": [
    "bow = vetorizador.fit_transform( df[\"text\"] )\n"
   ]
  },
  {
   "cell_type": "code",
   "execution_count": 112,
   "id": "8b2301c7-f431-4f11-a388-2ecea3e150f7",
   "metadata": {},
   "outputs": [],
   "source": [
    "vocabulario = vetorizador.get_feature_names_out()"
   ]
  },
  {
   "cell_type": "code",
   "execution_count": 125,
   "id": "69a4e3dc-0936-46f6-9997-a9b55b023cff",
   "metadata": {},
   "outputs": [
    {
     "data": {
      "text/plain": [
       "1000"
      ]
     },
     "execution_count": 125,
     "metadata": {},
     "output_type": "execute_result"
    }
   ],
   "source": [
    "features = len(vocabulario)\n",
    "features"
   ]
  },
  {
   "cell_type": "code",
   "execution_count": 115,
   "id": "616d3e18-3d42-4a5a-ad45-23e50170b5eb",
   "metadata": {},
   "outputs": [],
   "source": [
    "all_X = pd.DataFrame.sparse.from_spmatrix( bow, columns=vocabulario ).astype(np.float32)"
   ]
  },
  {
   "cell_type": "code",
   "execution_count": 117,
   "id": "94915dc0-13b5-492d-81db-e9dadafc91d1",
   "metadata": {},
   "outputs": [],
   "source": [
    "train_X = all_X[:df_train.shape[0]]\n",
    "test_X = all_X[df_train.shape[0]:]"
   ]
  },
  {
   "cell_type": "code",
   "execution_count": 119,
   "id": "f5805e63-8060-4289-a0cd-7dd4c57631c1",
   "metadata": {},
   "outputs": [],
   "source": [
    "train_Y = df[\"output\"][:df_train.shape[0]]\n",
    "test_Y = df[\"output\"][df_train.shape[0]:]"
   ]
  },
  {
   "cell_type": "code",
   "execution_count": 127,
   "id": "396d54b8-4c8f-4778-8714-64af9a0ce3d9",
   "metadata": {},
   "outputs": [
    {
     "data": {
      "text/html": [
       "<pre style=\"white-space:pre;overflow-x:auto;line-height:normal;font-family:Menlo,'DejaVu Sans Mono',consolas,'Courier New',monospace\"><span style=\"font-weight: bold\">Model: \"sequential\"</span>\n",
       "</pre>\n"
      ],
      "text/plain": [
       "\u001b[1mModel: \"sequential\"\u001b[0m\n"
      ]
     },
     "metadata": {},
     "output_type": "display_data"
    },
    {
     "data": {
      "text/html": [
       "<pre style=\"white-space:pre;overflow-x:auto;line-height:normal;font-family:Menlo,'DejaVu Sans Mono',consolas,'Courier New',monospace\">┏━━━━━━━━━━━━━━━━━━━━━━━━━━━━━━━━━━━━━━┳━━━━━━━━━━━━━━━━━━━━━━━━━━━━━┳━━━━━━━━━━━━━━━━━┓\n",
       "┃<span style=\"font-weight: bold\"> Layer (type)                         </span>┃<span style=\"font-weight: bold\"> Output Shape                </span>┃<span style=\"font-weight: bold\">         Param # </span>┃\n",
       "┡━━━━━━━━━━━━━━━━━━━━━━━━━━━━━━━━━━━━━━╇━━━━━━━━━━━━━━━━━━━━━━━━━━━━━╇━━━━━━━━━━━━━━━━━┩\n",
       "│ dense (<span style=\"color: #0087ff; text-decoration-color: #0087ff\">Dense</span>)                        │ (<span style=\"color: #00d7ff; text-decoration-color: #00d7ff\">None</span>, <span style=\"color: #00af00; text-decoration-color: #00af00\">128</span>)                 │         <span style=\"color: #00af00; text-decoration-color: #00af00\">128,128</span> │\n",
       "├──────────────────────────────────────┼─────────────────────────────┼─────────────────┤\n",
       "│ dense_1 (<span style=\"color: #0087ff; text-decoration-color: #0087ff\">Dense</span>)                      │ (<span style=\"color: #00d7ff; text-decoration-color: #00d7ff\">None</span>, <span style=\"color: #00af00; text-decoration-color: #00af00\">16</span>)                  │           <span style=\"color: #00af00; text-decoration-color: #00af00\">2,064</span> │\n",
       "├──────────────────────────────────────┼─────────────────────────────┼─────────────────┤\n",
       "│ dense_2 (<span style=\"color: #0087ff; text-decoration-color: #0087ff\">Dense</span>)                      │ (<span style=\"color: #00d7ff; text-decoration-color: #00d7ff\">None</span>, <span style=\"color: #00af00; text-decoration-color: #00af00\">1</span>)                   │              <span style=\"color: #00af00; text-decoration-color: #00af00\">17</span> │\n",
       "└──────────────────────────────────────┴─────────────────────────────┴─────────────────┘\n",
       "</pre>\n"
      ],
      "text/plain": [
       "┏━━━━━━━━━━━━━━━━━━━━━━━━━━━━━━━━━━━━━━┳━━━━━━━━━━━━━━━━━━━━━━━━━━━━━┳━━━━━━━━━━━━━━━━━┓\n",
       "┃\u001b[1m \u001b[0m\u001b[1mLayer (type)                        \u001b[0m\u001b[1m \u001b[0m┃\u001b[1m \u001b[0m\u001b[1mOutput Shape               \u001b[0m\u001b[1m \u001b[0m┃\u001b[1m \u001b[0m\u001b[1m        Param #\u001b[0m\u001b[1m \u001b[0m┃\n",
       "┡━━━━━━━━━━━━━━━━━━━━━━━━━━━━━━━━━━━━━━╇━━━━━━━━━━━━━━━━━━━━━━━━━━━━━╇━━━━━━━━━━━━━━━━━┩\n",
       "│ dense (\u001b[38;5;33mDense\u001b[0m)                        │ (\u001b[38;5;45mNone\u001b[0m, \u001b[38;5;34m128\u001b[0m)                 │         \u001b[38;5;34m128,128\u001b[0m │\n",
       "├──────────────────────────────────────┼─────────────────────────────┼─────────────────┤\n",
       "│ dense_1 (\u001b[38;5;33mDense\u001b[0m)                      │ (\u001b[38;5;45mNone\u001b[0m, \u001b[38;5;34m16\u001b[0m)                  │           \u001b[38;5;34m2,064\u001b[0m │\n",
       "├──────────────────────────────────────┼─────────────────────────────┼─────────────────┤\n",
       "│ dense_2 (\u001b[38;5;33mDense\u001b[0m)                      │ (\u001b[38;5;45mNone\u001b[0m, \u001b[38;5;34m1\u001b[0m)                   │              \u001b[38;5;34m17\u001b[0m │\n",
       "└──────────────────────────────────────┴─────────────────────────────┴─────────────────┘\n"
      ]
     },
     "metadata": {},
     "output_type": "display_data"
    },
    {
     "data": {
      "text/html": [
       "<pre style=\"white-space:pre;overflow-x:auto;line-height:normal;font-family:Menlo,'DejaVu Sans Mono',consolas,'Courier New',monospace\"><span style=\"font-weight: bold\"> Total params: </span><span style=\"color: #00af00; text-decoration-color: #00af00\">130,209</span> (508.63 KB)\n",
       "</pre>\n"
      ],
      "text/plain": [
       "\u001b[1m Total params: \u001b[0m\u001b[38;5;34m130,209\u001b[0m (508.63 KB)\n"
      ]
     },
     "metadata": {},
     "output_type": "display_data"
    },
    {
     "data": {
      "text/html": [
       "<pre style=\"white-space:pre;overflow-x:auto;line-height:normal;font-family:Menlo,'DejaVu Sans Mono',consolas,'Courier New',monospace\"><span style=\"font-weight: bold\"> Trainable params: </span><span style=\"color: #00af00; text-decoration-color: #00af00\">130,209</span> (508.63 KB)\n",
       "</pre>\n"
      ],
      "text/plain": [
       "\u001b[1m Trainable params: \u001b[0m\u001b[38;5;34m130,209\u001b[0m (508.63 KB)\n"
      ]
     },
     "metadata": {},
     "output_type": "display_data"
    },
    {
     "data": {
      "text/html": [
       "<pre style=\"white-space:pre;overflow-x:auto;line-height:normal;font-family:Menlo,'DejaVu Sans Mono',consolas,'Courier New',monospace\"><span style=\"font-weight: bold\"> Non-trainable params: </span><span style=\"color: #00af00; text-decoration-color: #00af00\">0</span> (0.00 B)\n",
       "</pre>\n"
      ],
      "text/plain": [
       "\u001b[1m Non-trainable params: \u001b[0m\u001b[38;5;34m0\u001b[0m (0.00 B)\n"
      ]
     },
     "metadata": {},
     "output_type": "display_data"
    }
   ],
   "source": [
    "modelo = Sequential()\n",
    "modelo.add( Input( (features, ) ) )\n",
    "modelo.add( Dense( 128, activation=\"relu\" ) )\n",
    "modelo.add( Dense( 16, activation=\"relu\" ) )\n",
    "modelo.add( Dense( 1, activation=\"sigmoid\" ) )\n",
    "modelo.summary()"
   ]
  },
  {
   "cell_type": "code",
   "execution_count": 129,
   "id": "be6b7ea6-4fe2-4c53-ba90-50081befae7f",
   "metadata": {},
   "outputs": [],
   "source": [
    "modelo.compile(loss=\"binary_crossentropy\", optimizer=\"RMSprop\", metrics=[\"accuracy\"])"
   ]
  },
  {
   "cell_type": "code",
   "execution_count": 131,
   "id": "1380adbc-c3ed-4e4a-9bd1-30056628eecc",
   "metadata": {},
   "outputs": [
    {
     "name": "stdout",
     "output_type": "stream",
     "text": [
      "Epoch 1/10\n",
      "\u001b[1m859/859\u001b[0m \u001b[32m━━━━━━━━━━━━━━━━━━━━\u001b[0m\u001b[37m\u001b[0m \u001b[1m5s\u001b[0m 4ms/step - accuracy: 0.7755 - loss: 0.4963\n",
      "Epoch 2/10\n",
      "\u001b[1m859/859\u001b[0m \u001b[32m━━━━━━━━━━━━━━━━━━━━\u001b[0m\u001b[37m\u001b[0m \u001b[1m3s\u001b[0m 4ms/step - accuracy: 0.8554 - loss: 0.3638\n",
      "Epoch 3/10\n",
      "\u001b[1m859/859\u001b[0m \u001b[32m━━━━━━━━━━━━━━━━━━━━\u001b[0m\u001b[37m\u001b[0m \u001b[1m4s\u001b[0m 4ms/step - accuracy: 0.8710 - loss: 0.3352\n",
      "Epoch 4/10\n",
      "\u001b[1m859/859\u001b[0m \u001b[32m━━━━━━━━━━━━━━━━━━━━\u001b[0m\u001b[37m\u001b[0m \u001b[1m4s\u001b[0m 4ms/step - accuracy: 0.8772 - loss: 0.3200\n",
      "Epoch 5/10\n",
      "\u001b[1m859/859\u001b[0m \u001b[32m━━━━━━━━━━━━━━━━━━━━\u001b[0m\u001b[37m\u001b[0m \u001b[1m4s\u001b[0m 4ms/step - accuracy: 0.8847 - loss: 0.3036\n",
      "Epoch 6/10\n",
      "\u001b[1m859/859\u001b[0m \u001b[32m━━━━━━━━━━━━━━━━━━━━\u001b[0m\u001b[37m\u001b[0m \u001b[1m3s\u001b[0m 4ms/step - accuracy: 0.8925 - loss: 0.2894\n",
      "Epoch 7/10\n",
      "\u001b[1m859/859\u001b[0m \u001b[32m━━━━━━━━━━━━━━━━━━━━\u001b[0m\u001b[37m\u001b[0m \u001b[1m4s\u001b[0m 5ms/step - accuracy: 0.8981 - loss: 0.2769\n",
      "Epoch 8/10\n",
      "\u001b[1m859/859\u001b[0m \u001b[32m━━━━━━━━━━━━━━━━━━━━\u001b[0m\u001b[37m\u001b[0m \u001b[1m4s\u001b[0m 5ms/step - accuracy: 0.9020 - loss: 0.2670\n",
      "Epoch 9/10\n",
      "\u001b[1m859/859\u001b[0m \u001b[32m━━━━━━━━━━━━━━━━━━━━\u001b[0m\u001b[37m\u001b[0m \u001b[1m4s\u001b[0m 4ms/step - accuracy: 0.9097 - loss: 0.2560\n",
      "Epoch 10/10\n",
      "\u001b[1m859/859\u001b[0m \u001b[32m━━━━━━━━━━━━━━━━━━━━\u001b[0m\u001b[37m\u001b[0m \u001b[1m4s\u001b[0m 4ms/step - accuracy: 0.9135 - loss: 0.2427\n"
     ]
    }
   ],
   "source": [
    "historico = modelo.fit(train_X, train_Y, epochs=10, batch_size=32)"
   ]
  },
  {
   "cell_type": "code",
   "execution_count": 133,
   "id": "067565d5-abbb-4846-806f-20fa62891592",
   "metadata": {},
   "outputs": [
    {
     "name": "stdout",
     "output_type": "stream",
     "text": [
      "\u001b[1m151/151\u001b[0m \u001b[32m━━━━━━━━━━━━━━━━━━━━\u001b[0m\u001b[37m\u001b[0m \u001b[1m1s\u001b[0m 4ms/step - accuracy: 0.8103 - loss: nan\n"
     ]
    },
    {
     "data": {
      "text/plain": [
       "[nan, 0.6191069483757019]"
      ]
     },
     "execution_count": 133,
     "metadata": {},
     "output_type": "execute_result"
    }
   ],
   "source": [
    "modelo.evaluate( test_X, test_Y )"
   ]
  },
  {
   "cell_type": "code",
   "execution_count": 139,
   "id": "bb314245-8b71-4887-a627-f23f4520e633",
   "metadata": {},
   "outputs": [],
   "source": [
    "predict_vectorizer = CountVectorizer(max_features=features, binary=True, \n",
    "                                     lowercase = True, vocabulary=vocabulario)"
   ]
  },
  {
   "cell_type": "code",
   "execution_count": 155,
   "id": "691c9b4a-1515-49f0-b9d8-334a392665d3",
   "metadata": {},
   "outputs": [],
   "source": [
    "texto = \"I love traffic\"\n",
    "bow_predict = predict_vectorizer.fit_transform([texto])\n",
    "predict_X = pd.DataFrame.sparse.from_spmatrix( bow_predict, columns=vocabulario ).astype(np.float32)"
   ]
  },
  {
   "cell_type": "code",
   "execution_count": 157,
   "id": "f44cc9c7-d3b2-486f-983c-b47c3513f8ca",
   "metadata": {},
   "outputs": [
    {
     "name": "stdout",
     "output_type": "stream",
     "text": [
      "\u001b[1m1/1\u001b[0m \u001b[32m━━━━━━━━━━━━━━━━━━━━\u001b[0m\u001b[37m\u001b[0m \u001b[1m0s\u001b[0m 124ms/step\n"
     ]
    },
    {
     "data": {
      "text/plain": [
       "'positivo'"
      ]
     },
     "execution_count": 157,
     "metadata": {},
     "output_type": "execute_result"
    }
   ],
   "source": [
    "\"negativo\" if modelo.predict( predict_X )[0][0] < 0.5 else \"positivo\""
   ]
  },
  {
   "cell_type": "code",
   "execution_count": null,
   "id": "de83e49b-69f7-4d26-b0df-63012950da08",
   "metadata": {},
   "outputs": [],
   "source": []
  }
 ],
 "metadata": {
  "kernelspec": {
   "display_name": "Python [conda env:base] *",
   "language": "python",
   "name": "conda-base-py"
  },
  "language_info": {
   "codemirror_mode": {
    "name": "ipython",
    "version": 3
   },
   "file_extension": ".py",
   "mimetype": "text/x-python",
   "name": "python",
   "nbconvert_exporter": "python",
   "pygments_lexer": "ipython3",
   "version": "3.12.7"
  }
 },
 "nbformat": 4,
 "nbformat_minor": 5
}
