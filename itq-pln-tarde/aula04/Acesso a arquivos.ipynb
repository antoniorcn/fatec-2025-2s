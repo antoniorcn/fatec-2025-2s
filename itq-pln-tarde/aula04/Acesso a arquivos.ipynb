{
 "cells": [
  {
   "cell_type": "code",
   "execution_count": 14,
   "id": "a8803447-f622-4286-bc51-159761386a73",
   "metadata": {},
   "outputs": [],
   "source": [
    "nome_arquivo = \"c:\\\\temp\\\\atividade.txt\""
   ]
  },
  {
   "cell_type": "code",
   "execution_count": 16,
   "id": "43067dd0-85a1-4137-a156-88fda4621a2c",
   "metadata": {},
   "outputs": [],
   "source": [
    "arquivo = open( nome_arquivo, \"r\", encoding=\"utf-8\")"
   ]
  },
  {
   "cell_type": "code",
   "execution_count": 18,
   "id": "d8ae6a26-c85a-4da8-9b17-7aba57ed6a26",
   "metadata": {},
   "outputs": [],
   "source": [
    "texto = \"\"\n",
    "letra = \"-\""
   ]
  },
  {
   "cell_type": "code",
   "execution_count": 20,
   "id": "10aa14d8-b4ab-40e3-bb69-2d62fe9bce96",
   "metadata": {},
   "outputs": [
    {
     "name": "stdout",
     "output_type": "stream",
     "text": [
      "Atividade:\n",
      "\t* Escolha um letra de música em português\n",
      "\t* Carregue ela no seu código\n",
      "\t* Transforme todo o texto em caixa baixa\n",
      "\t* Limpe as stopwords do texto\n",
      "\t* Crie o vocabulário\n",
      "\t* Calcule a riqueza lexical"
     ]
    }
   ],
   "source": [
    "while letra != \"\":\n",
    "    letra = arquivo.read(1)\n",
    "    texto = texto + letra\n",
    "    print(letra, end=\"\", sep=\"\")"
   ]
  },
  {
   "cell_type": "code",
   "execution_count": 22,
   "id": "fdba8699-3368-4d56-ae25-543f249cb2b8",
   "metadata": {},
   "outputs": [
    {
     "name": "stdout",
     "output_type": "stream",
     "text": [
      "()\n"
     ]
    }
   ],
   "source": [
    "print(f\"({arquivo.read(1)})\")"
   ]
  },
  {
   "cell_type": "code",
   "execution_count": null,
   "id": "d05c11b5-5b78-4d9a-9557-e8a3a84df88b",
   "metadata": {},
   "outputs": [],
   "source": []
  },
  {
   "cell_type": "code",
   "execution_count": 12,
   "id": "4ec9352d-980e-4039-93f7-4ceaee121590",
   "metadata": {},
   "outputs": [],
   "source": [
    "arquivo.close()"
   ]
  },
  {
   "cell_type": "code",
   "execution_count": 26,
   "id": "24561736-2075-4705-9e0d-c44d48218025",
   "metadata": {},
   "outputs": [
    {
     "name": "stdout",
     "output_type": "stream",
     "text": [
      "Atividade:\n",
      "\t* Escolha um letra de música em português\n",
      "\t* Carregue ela no seu código\n",
      "\t* Transforme todo o texto em caixa baixa\n",
      "\t* Limpe as stopwords do texto\n",
      "\t* Crie o vocabulário\n",
      "\t* Calcule a riqueza lexical fff"
     ]
    }
   ],
   "source": [
    "with open( nome_arquivo, \"r\", encoding=\"utf-8\") as arquivo:\n",
    "    texto = \"\"\n",
    "    letra = \"-\"\n",
    "    while letra != \"\":\n",
    "        letra = arquivo.read(1)\n",
    "        texto = texto + letra\n",
    "        print(letra, end=\"\", sep=\"\")"
   ]
  },
  {
   "cell_type": "code",
   "execution_count": 30,
   "id": "11d31ea8-1dc3-404e-831c-c6b5b7de72c2",
   "metadata": {},
   "outputs": [
    {
     "data": {
      "text/plain": [
       "['Atividade:\\n',\n",
       " '\\t* Escolha um letra de música em português\\n',\n",
       " '\\t* Carregue ela no seu código\\n',\n",
       " '\\t* Transforme todo o texto em caixa baixa\\n',\n",
       " '\\t* Limpe as stopwords do texto\\n',\n",
       " '\\t* Crie o vocabulário\\n',\n",
       " '\\t* Calcule a riqueza lexical fff']"
      ]
     },
     "execution_count": 30,
     "metadata": {},
     "output_type": "execute_result"
    }
   ],
   "source": [
    "with open( nome_arquivo, \"r\", encoding=\"utf-8\") as arquivo:\n",
    "    textos = arquivo.readlines()\n",
    "textos"
   ]
  },
  {
   "cell_type": "code",
   "execution_count": 34,
   "id": "63a53914-9a73-4629-9e37-457bbaa221dc",
   "metadata": {},
   "outputs": [
    {
     "data": {
      "text/plain": [
       "'Atividade:\\n\\t* Escolha um letra de música em português\\n\\t* Carregue ela no seu código\\n\\t* Transforme todo o texto em caixa baixa\\n\\t* Limpe as stopwords do texto\\n\\t* Crie o vocabulário\\n\\t* Calcule a riqueza lexical fff'"
      ]
     },
     "execution_count": 34,
     "metadata": {},
     "output_type": "execute_result"
    }
   ],
   "source": [
    "with open( nome_arquivo, \"r\", encoding=\"utf-8\") as arquivo:\n",
    "    textos = \"\"\n",
    "    linha = \"-\"\n",
    "    while linha != \"\":\n",
    "        linha = arquivo.readline()\n",
    "        textos += linha\n",
    "textos"
   ]
  },
  {
   "cell_type": "code",
   "execution_count": null,
   "id": "5e52573b-ed28-475f-986c-c168d37380c9",
   "metadata": {},
   "outputs": [],
   "source": []
  }
 ],
 "metadata": {
  "kernelspec": {
   "display_name": "Python [conda env:base] *",
   "language": "python",
   "name": "conda-base-py"
  },
  "language_info": {
   "codemirror_mode": {
    "name": "ipython",
    "version": 3
   },
   "file_extension": ".py",
   "mimetype": "text/x-python",
   "name": "python",
   "nbconvert_exporter": "python",
   "pygments_lexer": "ipython3",
   "version": "3.12.7"
  }
 },
 "nbformat": 4,
 "nbformat_minor": 5
}
