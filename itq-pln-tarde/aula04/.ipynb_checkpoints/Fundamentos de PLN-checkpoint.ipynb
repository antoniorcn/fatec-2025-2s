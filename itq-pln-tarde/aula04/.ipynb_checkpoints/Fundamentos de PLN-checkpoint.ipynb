{
 "cells": [
  {
   "cell_type": "code",
   "execution_count": 1,
   "id": "31746ee3-8f9f-4143-b2f8-693542d162eb",
   "metadata": {},
   "outputs": [],
   "source": [
    "import nltk\n",
    "from nltk.tokenize import word_tokenize"
   ]
  },
  {
   "cell_type": "code",
   "execution_count": 2,
   "id": "ebff03e6-5d1c-4a64-b8e2-60ca4e2960e5",
   "metadata": {
    "scrolled": true
   },
   "outputs": [
    {
     "name": "stderr",
     "output_type": "stream",
     "text": [
      "[nltk_data] Downloading package punkt_tab to\n",
      "[nltk_data]     C:\\Users\\anton\\AppData\\Roaming\\nltk_data...\n",
      "[nltk_data]   Package punkt_tab is already up-to-date!\n"
     ]
    },
    {
     "data": {
      "text/plain": [
       "True"
      ]
     },
     "execution_count": 2,
     "metadata": {},
     "output_type": "execute_result"
    }
   ],
   "source": [
    "nltk.download('punkt_tab')"
   ]
  },
  {
   "cell_type": "code",
   "execution_count": 3,
   "id": "1003dbec-4258-4594-8158-7ea9c81eb495",
   "metadata": {},
   "outputs": [],
   "source": [
    "texto = \"\"\"rato roeu a roupa do rei de Roma,\n",
    "O rato roeu a roupa do rei da Rússia,\n",
    "O rato roeu a roupa do RodovaIho...\n",
    "O rato a roer roía\n",
    "E a rosa Rita Ramalho do rato a roer se ria.\n",
    "O rato roeu a roupa do rei de roma\n",
    "a rainha com raiva roeu o resto.\"\"\""
   ]
  },
  {
   "cell_type": "code",
   "execution_count": 4,
   "id": "3c2515ed-fc26-4477-bda3-138052fdfa07",
   "metadata": {},
   "outputs": [],
   "source": [
    "# tokens = texto.split(\" \")\n",
    "# tokens"
   ]
  },
  {
   "cell_type": "code",
   "execution_count": 5,
   "id": "c2777ecb-0c04-44f8-9a5e-fd4c0c2bdd67",
   "metadata": {},
   "outputs": [],
   "source": [
    "texto = texto.lower()"
   ]
  },
  {
   "cell_type": "code",
   "execution_count": 6,
   "id": "a02797bc-434c-4d45-9b3c-77ae95bef211",
   "metadata": {},
   "outputs": [],
   "source": [
    "tokens = word_tokenize(texto, language=\"portuguese\")"
   ]
  },
  {
   "cell_type": "code",
   "execution_count": 7,
   "id": "88f25965-48d9-45f7-8609-50caed9f45b0",
   "metadata": {},
   "outputs": [
    {
     "data": {
      "text/plain": [
       "['a',\n",
       " 'à',\n",
       " 'ao',\n",
       " 'aos',\n",
       " 'aquela',\n",
       " 'aquelas',\n",
       " 'aquele',\n",
       " 'aqueles',\n",
       " 'aquilo',\n",
       " 'as',\n",
       " 'às',\n",
       " 'até',\n",
       " 'com',\n",
       " 'como',\n",
       " 'da',\n",
       " 'das',\n",
       " 'de',\n",
       " 'dela',\n",
       " 'delas',\n",
       " 'dele',\n",
       " 'deles',\n",
       " 'depois',\n",
       " 'do',\n",
       " 'dos',\n",
       " 'e',\n",
       " 'é',\n",
       " 'ela',\n",
       " 'elas',\n",
       " 'ele',\n",
       " 'eles',\n",
       " 'em',\n",
       " 'entre',\n",
       " 'era',\n",
       " 'eram',\n",
       " 'éramos',\n",
       " 'essa',\n",
       " 'essas',\n",
       " 'esse',\n",
       " 'esses',\n",
       " 'esta',\n",
       " 'está',\n",
       " 'estamos',\n",
       " 'estão',\n",
       " 'estar',\n",
       " 'estas',\n",
       " 'estava',\n",
       " 'estavam',\n",
       " 'estávamos',\n",
       " 'este',\n",
       " 'esteja',\n",
       " 'estejam',\n",
       " 'estejamos',\n",
       " 'estes',\n",
       " 'esteve',\n",
       " 'estive',\n",
       " 'estivemos',\n",
       " 'estiver',\n",
       " 'estivera',\n",
       " 'estiveram',\n",
       " 'estivéramos',\n",
       " 'estiverem',\n",
       " 'estivermos',\n",
       " 'estivesse',\n",
       " 'estivessem',\n",
       " 'estivéssemos',\n",
       " 'estou',\n",
       " 'eu',\n",
       " 'foi',\n",
       " 'fomos',\n",
       " 'for',\n",
       " 'fora',\n",
       " 'foram',\n",
       " 'fôramos',\n",
       " 'forem',\n",
       " 'formos',\n",
       " 'fosse',\n",
       " 'fossem',\n",
       " 'fôssemos',\n",
       " 'fui',\n",
       " 'há',\n",
       " 'haja',\n",
       " 'hajam',\n",
       " 'hajamos',\n",
       " 'hão',\n",
       " 'havemos',\n",
       " 'haver',\n",
       " 'hei',\n",
       " 'houve',\n",
       " 'houvemos',\n",
       " 'houver',\n",
       " 'houvera',\n",
       " 'houverá',\n",
       " 'houveram',\n",
       " 'houvéramos',\n",
       " 'houverão',\n",
       " 'houverei',\n",
       " 'houverem',\n",
       " 'houveremos',\n",
       " 'houveria',\n",
       " 'houveriam',\n",
       " 'houveríamos',\n",
       " 'houvermos',\n",
       " 'houvesse',\n",
       " 'houvessem',\n",
       " 'houvéssemos',\n",
       " 'isso',\n",
       " 'isto',\n",
       " 'já',\n",
       " 'lhe',\n",
       " 'lhes',\n",
       " 'mais',\n",
       " 'mas',\n",
       " 'me',\n",
       " 'mesmo',\n",
       " 'meu',\n",
       " 'meus',\n",
       " 'minha',\n",
       " 'minhas',\n",
       " 'muito',\n",
       " 'na',\n",
       " 'não',\n",
       " 'nas',\n",
       " 'nem',\n",
       " 'no',\n",
       " 'nos',\n",
       " 'nós',\n",
       " 'nossa',\n",
       " 'nossas',\n",
       " 'nosso',\n",
       " 'nossos',\n",
       " 'num',\n",
       " 'numa',\n",
       " 'o',\n",
       " 'os',\n",
       " 'ou',\n",
       " 'para',\n",
       " 'pela',\n",
       " 'pelas',\n",
       " 'pelo',\n",
       " 'pelos',\n",
       " 'por',\n",
       " 'qual',\n",
       " 'quando',\n",
       " 'que',\n",
       " 'quem',\n",
       " 'são',\n",
       " 'se',\n",
       " 'seja',\n",
       " 'sejam',\n",
       " 'sejamos',\n",
       " 'sem',\n",
       " 'ser',\n",
       " 'será',\n",
       " 'serão',\n",
       " 'serei',\n",
       " 'seremos',\n",
       " 'seria',\n",
       " 'seriam',\n",
       " 'seríamos',\n",
       " 'seu',\n",
       " 'seus',\n",
       " 'só',\n",
       " 'somos',\n",
       " 'sou',\n",
       " 'sua',\n",
       " 'suas',\n",
       " 'também',\n",
       " 'te',\n",
       " 'tem',\n",
       " 'tém',\n",
       " 'temos',\n",
       " 'tenha',\n",
       " 'tenham',\n",
       " 'tenhamos',\n",
       " 'tenho',\n",
       " 'terá',\n",
       " 'terão',\n",
       " 'terei',\n",
       " 'teremos',\n",
       " 'teria',\n",
       " 'teriam',\n",
       " 'teríamos',\n",
       " 'teu',\n",
       " 'teus',\n",
       " 'teve',\n",
       " 'tinha',\n",
       " 'tinham',\n",
       " 'tínhamos',\n",
       " 'tive',\n",
       " 'tivemos',\n",
       " 'tiver',\n",
       " 'tivera',\n",
       " 'tiveram',\n",
       " 'tivéramos',\n",
       " 'tiverem',\n",
       " 'tivermos',\n",
       " 'tivesse',\n",
       " 'tivessem',\n",
       " 'tivéssemos',\n",
       " 'tu',\n",
       " 'tua',\n",
       " 'tuas',\n",
       " 'um',\n",
       " 'uma',\n",
       " 'você',\n",
       " 'vocês',\n",
       " 'vos']"
      ]
     },
     "execution_count": 7,
     "metadata": {},
     "output_type": "execute_result"
    }
   ],
   "source": [
    "nltk_stopwords = nltk.corpus.stopwords.words('portuguese')\n",
    "nltk_stopwords"
   ]
  },
  {
   "cell_type": "code",
   "execution_count": 8,
   "id": "2ac12c4a-5665-44c8-8743-70b369830a7f",
   "metadata": {},
   "outputs": [],
   "source": [
    "stopwords = nltk_stopwords\n",
    "stopwords.extend(['o', 'a', 'O', 'A', 'do', 'da', 'de', ',', '.', '...'])"
   ]
  },
  {
   "cell_type": "code",
   "execution_count": 9,
   "id": "c06c5c46-549a-4a50-b49a-ecf28f25e6db",
   "metadata": {},
   "outputs": [
    {
     "data": {
      "text/plain": [
       "['rato',\n",
       " 'roeu',\n",
       " 'roupa',\n",
       " 'rei',\n",
       " 'roma',\n",
       " 'rato',\n",
       " 'roeu',\n",
       " 'roupa',\n",
       " 'rei',\n",
       " 'rússia',\n",
       " 'rato',\n",
       " 'roeu',\n",
       " 'roupa',\n",
       " 'rodovaiho',\n",
       " 'rato',\n",
       " 'roer',\n",
       " 'roía',\n",
       " 'rosa',\n",
       " 'rita',\n",
       " 'ramalho',\n",
       " 'rato',\n",
       " 'roer',\n",
       " 'ria',\n",
       " 'rato',\n",
       " 'roeu',\n",
       " 'roupa',\n",
       " 'rei',\n",
       " 'roma',\n",
       " 'rainha',\n",
       " 'raiva',\n",
       " 'roeu',\n",
       " 'resto']"
      ]
     },
     "execution_count": 9,
     "metadata": {},
     "output_type": "execute_result"
    }
   ],
   "source": [
    "tokens_limpos = []\n",
    "for token in tokens:\n",
    "    if token not in stopwords:\n",
    "        tokens_limpos.append(token)\n",
    "tokens_limpos        "
   ]
  },
  {
   "cell_type": "code",
   "execution_count": 24,
   "id": "dd489cf0-7ce4-43c6-a2d9-90d104a7022f",
   "metadata": {},
   "outputs": [
    {
     "data": {
      "text/plain": [
       "['rato',\n",
       " 'roeu',\n",
       " 'roupa',\n",
       " 'rei',\n",
       " 'roma',\n",
       " 'rússia',\n",
       " 'rodovaiho',\n",
       " 'roer',\n",
       " 'roía',\n",
       " 'rosa',\n",
       " 'rita',\n",
       " 'ramalho',\n",
       " 'ria',\n",
       " 'rainha',\n",
       " 'raiva',\n",
       " 'resto']"
      ]
     },
     "execution_count": 24,
     "metadata": {},
     "output_type": "execute_result"
    }
   ],
   "source": [
    "vocabulario = []\n",
    "for token in tokens_limpos:\n",
    "    if token not in vocabulario:\n",
    "        vocabulario.append( token )\n",
    "vocabulario"
   ]
  },
  {
   "cell_type": "code",
   "execution_count": 26,
   "id": "a298dd30-95a6-4e03-b8ea-c844878cc58d",
   "metadata": {},
   "outputs": [
    {
     "data": {
      "text/plain": [
       "0.26229508196721313"
      ]
     },
     "execution_count": 26,
     "metadata": {},
     "output_type": "execute_result"
    }
   ],
   "source": [
    "riqueza_lexical = len(vocabulario) / len(tokens)\n",
    "riqueza_lexical"
   ]
  },
  {
   "cell_type": "code",
   "execution_count": null,
   "id": "cef231fb-1868-489f-87b3-839468fd1542",
   "metadata": {},
   "outputs": [],
   "source": []
  }
 ],
 "metadata": {
  "kernelspec": {
   "display_name": "Python [conda env:base] *",
   "language": "python",
   "name": "conda-base-py"
  },
  "language_info": {
   "codemirror_mode": {
    "name": "ipython",
    "version": 3
   },
   "file_extension": ".py",
   "mimetype": "text/x-python",
   "name": "python",
   "nbconvert_exporter": "python",
   "pygments_lexer": "ipython3",
   "version": "3.12.7"
  }
 },
 "nbformat": 4,
 "nbformat_minor": 5
}
