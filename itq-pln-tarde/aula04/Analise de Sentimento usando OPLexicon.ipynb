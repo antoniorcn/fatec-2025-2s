{
 "cells": [
  {
   "cell_type": "code",
   "execution_count": 1,
   "id": "ddd978df-9214-4602-abf5-f98a8bda1aef",
   "metadata": {},
   "outputs": [],
   "source": [
    "from typing import Dict"
   ]
  },
  {
   "cell_type": "code",
   "execution_count": 2,
   "id": "2a4e6121-a16f-412b-9cc1-40b32bc30e7f",
   "metadata": {},
   "outputs": [],
   "source": [
    "import nltk\n",
    "from nltk.tokenize import word_tokenize"
   ]
  },
  {
   "cell_type": "code",
   "execution_count": 3,
   "id": "15945a19-2824-4d6e-a4da-3e0b526fb49a",
   "metadata": {},
   "outputs": [
    {
     "name": "stderr",
     "output_type": "stream",
     "text": [
      "[nltk_data] Downloading package punkt_tab to\n",
      "[nltk_data]     C:\\Users\\anton\\AppData\\Roaming\\nltk_data...\n",
      "[nltk_data]   Package punkt_tab is already up-to-date!\n"
     ]
    },
    {
     "data": {
      "text/plain": [
       "True"
      ]
     },
     "execution_count": 3,
     "metadata": {},
     "output_type": "execute_result"
    }
   ],
   "source": [
    "nltk.download('punkt_tab')"
   ]
  },
  {
   "cell_type": "code",
   "execution_count": 4,
   "id": "488f0efa-5e35-4e74-91a1-272cdda6e5b9",
   "metadata": {},
   "outputs": [],
   "source": [
    "nome_arquivo_lexico = \"C:\\\\git\\\\dados\\\\nlp\\\\lexico_v3.0.txt\""
   ]
  },
  {
   "cell_type": "code",
   "execution_count": 5,
   "id": "0db5dea9-c620-4951-8942-d4cd9e922c1a",
   "metadata": {},
   "outputs": [],
   "source": [
    "lexicon : Dict[str, int] = {}"
   ]
  },
  {
   "cell_type": "code",
   "execution_count": 6,
   "id": "69deba4d-da87-4498-857e-f858d469ab8a",
   "metadata": {},
   "outputs": [],
   "source": [
    "with open(nome_arquivo_lexico, \"r\", encoding=\"utf-8\") as arquivo_lexico:\n",
    "    linha = \"-\"\n",
    "    while linha != \"\": \n",
    "        linha = arquivo_lexico.readline()\n",
    "        campos = linha.split(\",\")\n",
    "        if len(campos) >= 3:\n",
    "            #        palavra      peso (1, 0 ou -1)\n",
    "            lexicon[campos[0]] = int(campos[2])\n",
    "            \n",
    "            "
   ]
  },
  {
   "cell_type": "code",
   "execution_count": null,
   "id": "f132abcc-541a-420d-b387-16aab3468df1",
   "metadata": {},
   "outputs": [],
   "source": []
  },
  {
   "cell_type": "code",
   "execution_count": 7,
   "id": "068241fe-7c60-4cb2-a6f4-29b5d50bb931",
   "metadata": {},
   "outputs": [],
   "source": [
    "texto = \"\"\"rato roeu a roupa do rei de Roma,\n",
    "O rato roeu a roupa do rei da Rússia,\n",
    "O rato roeu a roupa do RodovaIho...\n",
    "O rato a roer roía\n",
    "E a rosa Rita Ramalho do rato a roer se ria.\n",
    "O rato roeu a roupa do rei de roma\n",
    "a rainha com raiva roeu o resto.\"\"\""
   ]
  },
  {
   "cell_type": "code",
   "execution_count": 8,
   "id": "7dfb7c9f-351f-42f5-be22-9c352e003e31",
   "metadata": {},
   "outputs": [],
   "source": [
    "texto = texto.lower()"
   ]
  },
  {
   "cell_type": "code",
   "execution_count": 9,
   "id": "7823bcc5-b288-4dd9-b8d7-5fb3af1e77e0",
   "metadata": {},
   "outputs": [],
   "source": [
    "tokens = word_tokenize(texto)"
   ]
  },
  {
   "cell_type": "code",
   "execution_count": 10,
   "id": "258b1ed7-2fc5-49ea-8af8-a86d697fa84e",
   "metadata": {},
   "outputs": [
    {
     "data": {
      "text/plain": [
       "['rato',\n",
       " 'roeu',\n",
       " 'a',\n",
       " 'roupa',\n",
       " 'do',\n",
       " 'rei',\n",
       " 'de',\n",
       " 'roma',\n",
       " ',',\n",
       " 'o',\n",
       " 'rato',\n",
       " 'roeu',\n",
       " 'a',\n",
       " 'roupa',\n",
       " 'do',\n",
       " 'rei',\n",
       " 'da',\n",
       " 'rússia',\n",
       " ',',\n",
       " 'o',\n",
       " 'rato',\n",
       " 'roeu',\n",
       " 'a',\n",
       " 'roupa',\n",
       " 'do',\n",
       " 'rodovaiho',\n",
       " '...',\n",
       " 'o',\n",
       " 'rato',\n",
       " 'a',\n",
       " 'roer',\n",
       " 'roía',\n",
       " 'e',\n",
       " 'a',\n",
       " 'rosa',\n",
       " 'rita',\n",
       " 'ramalho',\n",
       " 'do',\n",
       " 'rato',\n",
       " 'a',\n",
       " 'roer',\n",
       " 'se',\n",
       " 'ria',\n",
       " '.',\n",
       " 'o',\n",
       " 'rato',\n",
       " 'roeu',\n",
       " 'a',\n",
       " 'roupa',\n",
       " 'do',\n",
       " 'rei',\n",
       " 'de',\n",
       " 'roma',\n",
       " 'a',\n",
       " 'rainha',\n",
       " 'com',\n",
       " 'raiva',\n",
       " 'roeu',\n",
       " 'o',\n",
       " 'resto',\n",
       " '.']"
      ]
     },
     "execution_count": 10,
     "metadata": {},
     "output_type": "execute_result"
    }
   ],
   "source": [
    "tokens"
   ]
  },
  {
   "cell_type": "code",
   "execution_count": 24,
   "id": "b77111db-909d-4776-93ad-1eecaf866cd5",
   "metadata": {},
   "outputs": [
    {
     "name": "stdout",
     "output_type": "stream",
     "text": [
      "rato => 0\n",
      "rato => 0\n",
      "rato => 0\n",
      "rato => 0\n",
      "roer => -1\n",
      "rato => 0\n",
      "roer => -1\n",
      "rato => 0\n",
      "Palavras encontradas:  8\n",
      "Resultado Soma:  -2\n"
     ]
    }
   ],
   "source": [
    "soma = 0\n",
    "palavras_encontradas = 0\n",
    "for token in tokens:\n",
    "    if token in lexicon:\n",
    "        valor = lexicon[token]\n",
    "        soma += valor\n",
    "        palavras_encontradas += 1\n",
    "        print(token, \"=>\", valor)\n",
    "print(\"Palavras encontradas: \", palavras_encontradas)\n",
    "print(\"Resultado Soma: \", soma)"
   ]
  },
  {
   "cell_type": "code",
   "execution_count": null,
   "id": "228a0a29-b911-4fbb-937d-757922e546b7",
   "metadata": {},
   "outputs": [],
   "source": []
  }
 ],
 "metadata": {
  "kernelspec": {
   "display_name": "Python [conda env:base] *",
   "language": "python",
   "name": "conda-base-py"
  },
  "language_info": {
   "codemirror_mode": {
    "name": "ipython",
    "version": 3
   },
   "file_extension": ".py",
   "mimetype": "text/x-python",
   "name": "python",
   "nbconvert_exporter": "python",
   "pygments_lexer": "ipython3",
   "version": "3.12.7"
  }
 },
 "nbformat": 4,
 "nbformat_minor": 5
}
