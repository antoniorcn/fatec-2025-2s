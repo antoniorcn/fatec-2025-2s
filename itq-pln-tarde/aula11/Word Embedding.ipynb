{
 "cells": [
  {
   "cell_type": "code",
   "execution_count": 1,
   "id": "91fe91d3-5491-40b2-97b8-8f0096acfca2",
   "metadata": {},
   "outputs": [
    {
     "name": "stdout",
     "output_type": "stream",
     "text": [
      "Defaulting to user installation because normal site-packages is not writeable\n",
      "Looking in indexes: https://pypi.org/simple, https://pypi.ngc.nvidia.com\n",
      "Requirement already satisfied: gensim in c:\\programdata\\anaconda3\\lib\\site-packages (4.3.3)\n",
      "Requirement already satisfied: numpy<2.0,>=1.18.5 in c:\\programdata\\anaconda3\\lib\\site-packages (from gensim) (1.26.4)\n",
      "Requirement already satisfied: scipy<1.14.0,>=1.7.0 in c:\\programdata\\anaconda3\\lib\\site-packages (from gensim) (1.13.1)\n",
      "Requirement already satisfied: smart-open>=1.8.1 in c:\\programdata\\anaconda3\\lib\\site-packages (from gensim) (5.2.1)\n"
     ]
    }
   ],
   "source": [
    "!python -m pip install gensim"
   ]
  },
  {
   "cell_type": "code",
   "execution_count": 5,
   "id": "b7b7a220-d52c-432e-8199-43969aeedd16",
   "metadata": {},
   "outputs": [],
   "source": [
    "from gensim.models import Word2Vec, KeyedVectors"
   ]
  },
  {
   "cell_type": "code",
   "execution_count": null,
   "id": "af3c3a3e-7cde-4d9b-9b3e-5da7e44949aa",
   "metadata": {},
   "outputs": [],
   "source": [
    "modelo = KeyedVectors.load_word2vec_format(\"../../../dados/skip_s100/skip_s100.txt\")"
   ]
  },
  {
   "cell_type": "code",
   "execution_count": 16,
   "id": "89da46a5-acbb-496e-ab81-b790589e1db2",
   "metadata": {},
   "outputs": [
    {
     "data": {
      "text/plain": [
       "929606"
      ]
     },
     "execution_count": 16,
     "metadata": {},
     "output_type": "execute_result"
    }
   ],
   "source": [
    "len(modelo)"
   ]
  },
  {
   "cell_type": "code",
   "execution_count": 18,
   "id": "79c993b4-fa43-4f97-a3ea-66dc0fc308c9",
   "metadata": {},
   "outputs": [
    {
     "data": {
      "text/plain": [
       "array([-0.120855,  0.142748,  0.33329 , -0.458408,  0.165795,  0.115795,\n",
       "       -0.09248 ,  0.118047,  0.204536, -0.043614,  0.520415, -0.243856,\n",
       "       -0.138482,  0.013037,  0.271511,  0.074955,  0.169142,  0.203659,\n",
       "        0.081966,  0.206962,  0.139761,  0.055289,  0.180872,  0.066996,\n",
       "        0.059843, -0.007463,  0.064181, -0.02115 ,  0.144298,  0.055224,\n",
       "       -0.063123, -0.119951, -0.314943, -0.085055,  0.085   , -0.236553,\n",
       "       -0.079574, -0.039084, -0.09841 ,  0.320326,  0.338962, -0.093811,\n",
       "        0.046141, -0.256948, -0.087286, -0.209481,  0.152284,  0.021496,\n",
       "        0.15237 ,  0.217062, -0.260962, -0.460695,  0.424814,  0.413395,\n",
       "        0.178936,  0.244298, -0.10086 , -0.242971, -0.055021,  0.480354,\n",
       "        0.057856, -0.159296, -0.131148, -0.053389, -0.121464,  0.083543,\n",
       "        0.421867,  0.107399,  0.029249,  0.224346,  0.149752,  0.321111,\n",
       "        0.029659, -0.104618, -0.12109 , -0.149852,  0.128889,  0.201505,\n",
       "       -0.261895, -0.274536,  0.044398,  0.256269, -0.187358,  0.012207,\n",
       "        0.140001, -0.434473,  0.297021,  0.075083,  0.06117 , -0.031541,\n",
       "       -0.27074 ,  0.070647, -0.288571, -0.146701, -0.341435, -0.032322,\n",
       "       -0.091296,  0.059748,  0.210659, -0.09091 ], dtype=float32)"
      ]
     },
     "execution_count": 18,
     "metadata": {},
     "output_type": "execute_result"
    }
   ],
   "source": [
    "modelo[\"cachorro\"]"
   ]
  },
  {
   "cell_type": "code",
   "execution_count": 20,
   "id": "e82d5af3-9cf3-477d-909f-4739cea8bdb2",
   "metadata": {},
   "outputs": [
    {
     "data": {
      "text/plain": [
       "array([-0.164461, -0.014363,  0.124512, -0.303955,  0.160792, -0.032028,\n",
       "       -0.048507, -0.034208,  0.107088, -0.093499,  0.349632, -0.087973,\n",
       "       -0.101196,  0.054815,  0.237671, -0.061357,  0.264327,  0.298272,\n",
       "       -0.024176,  0.389583,  0.065943,  0.054307,  0.106118,  0.23514 ,\n",
       "        0.078463,  0.282537, -0.150036, -0.006788,  0.051575,  0.083578,\n",
       "        0.242771, -0.223759, -0.146031, -0.159297,  0.287694, -0.083225,\n",
       "       -0.158965, -0.046706, -0.039911,  0.224569,  0.168114,  0.083644,\n",
       "        0.137285,  0.020159,  0.088486, -0.141225,  0.265956,  0.023687,\n",
       "        0.166814,  0.052159, -0.223885, -0.215677,  0.429719,  0.225931,\n",
       "        0.125467,  0.116944, -0.012855, -0.188196, -0.008294,  0.582053,\n",
       "        0.032072,  0.036928,  0.016363, -0.003704, -0.225326,  0.073739,\n",
       "        0.432913,  0.521782, -0.073163,  0.16542 ,  0.003852,  0.422371,\n",
       "        0.14309 , -0.079214,  0.112097, -0.142931,  0.104638,  0.324669,\n",
       "       -0.213694, -0.496184,  0.051481,  0.218193, -0.048533, -0.069502,\n",
       "       -0.037793, -0.303088,  0.215114, -0.083878, -0.049161,  0.013102,\n",
       "       -0.164921, -0.024278, -0.138655, -0.295473, -0.355548, -0.032664,\n",
       "        0.310142, -0.054391,  0.226432,  0.079264], dtype=float32)"
      ]
     },
     "execution_count": 20,
     "metadata": {},
     "output_type": "execute_result"
    }
   ],
   "source": [
    "modelo[\"gato\"]"
   ]
  },
  {
   "cell_type": "code",
   "execution_count": 32,
   "id": "d4e25409-154c-4481-bcd4-e55a731483b3",
   "metadata": {},
   "outputs": [
    {
     "name": "stdout",
     "output_type": "stream",
     "text": [
      "Palavra não encontrada\n"
     ]
    }
   ],
   "source": [
    "try: \n",
    "    modelo[\"FATECDSM\"]\n",
    "except KeyError as e:\n",
    "    print(\"Palavra não encontrada\")"
   ]
  },
  {
   "cell_type": "code",
   "execution_count": 34,
   "id": "9095877f-be48-4e82-8964-bf651b0bc178",
   "metadata": {},
   "outputs": [
    {
     "data": {
      "text/plain": [
       "0.7721727"
      ]
     },
     "execution_count": 34,
     "metadata": {},
     "output_type": "execute_result"
    }
   ],
   "source": [
    "modelo.similarity(\"cachorro\", \"gato\")"
   ]
  },
  {
   "cell_type": "code",
   "execution_count": 40,
   "id": "6d75394a-b768-4a13-b13d-f8b422e6c624",
   "metadata": {},
   "outputs": [
    {
     "data": {
      "text/plain": [
       "0.35889575"
      ]
     },
     "execution_count": 40,
     "metadata": {},
     "output_type": "execute_result"
    }
   ],
   "source": [
    "modelo.similarity(\"cachorro\", \"poste\")"
   ]
  },
  {
   "cell_type": "code",
   "execution_count": 42,
   "id": "0def7e51-59fe-4da1-baa7-2096d38df2df",
   "metadata": {},
   "outputs": [
    {
     "data": {
      "text/plain": [
       "[('cão', 0.8545767664909363),\n",
       " ('cãozinho', 0.8492724299430847),\n",
       " ('gambá', 0.847667396068573),\n",
       " ('cachorrinho', 0.8201666474342346),\n",
       " ('filhote', 0.8127357363700867),\n",
       " ('jumento', 0.7904331684112549),\n",
       " ('lenhador', 0.7898339033126831),\n",
       " ('pássaro', 0.7856845855712891),\n",
       " ('bichinho', 0.7818863391876221),\n",
       " ('ossinho', 0.7816482782363892)]"
      ]
     },
     "execution_count": 42,
     "metadata": {},
     "output_type": "execute_result"
    }
   ],
   "source": [
    "modelo.most_similar(\"cachorro\")"
   ]
  },
  {
   "cell_type": "code",
   "execution_count": 48,
   "id": "5204a383-6e21-4480-aba5-49b9af0b601d",
   "metadata": {},
   "outputs": [],
   "source": [
    "r_queen = modelo[\"rei\"] - modelo[\"homem\"] + modelo[\"mulher\"]"
   ]
  },
  {
   "cell_type": "code",
   "execution_count": 50,
   "id": "930d3afd-b9f7-41c6-9b2d-7ffbc4eb1205",
   "metadata": {},
   "outputs": [
    {
     "data": {
      "text/plain": [
       "[('rainha-consorte', 0.8243916034698486),\n",
       " ('primogénita', 0.8096219301223755),\n",
       " ('imperatriz-mãe', 0.7968856692314148),\n",
       " ('consorte', 0.7874205708503723),\n",
       " ('paleóloga', 0.779080867767334),\n",
       " ('ranavalona', 0.7697462439537048),\n",
       " ('piroska', 0.7684454321861267),\n",
       " ('rainha', 0.7652576565742493),\n",
       " ('princesa-eleitora', 0.7640146017074585),\n",
       " ('oto', 0.7639181017875671)]"
      ]
     },
     "execution_count": 50,
     "metadata": {},
     "output_type": "execute_result"
    }
   ],
   "source": [
    "modelo.most_similar(r_queen)"
   ]
  },
  {
   "cell_type": "code",
   "execution_count": 66,
   "id": "eee5f26a-3334-4a1b-a6a6-63e00b695426",
   "metadata": {},
   "outputs": [
    {
     "data": {
      "text/plain": [
       "[('japão', 0.7522248029708862),\n",
       " ('china', 0.6997159719467163),\n",
       " ('índia', 0.6842067241668701),\n",
       " ('vietname', 0.6495757102966309),\n",
       " ('tailândia', 0.6450431942939758),\n",
       " ('malásia', 0.6257573962211609),\n",
       " ('canadá', 0.6197730302810669),\n",
       " ('coreia', 0.6170263290405273),\n",
       " ('laos', 0.6146945357322693),\n",
       " ('botswana', 0.6120637059211731)]"
      ]
     },
     "execution_count": 66,
     "metadata": {},
     "output_type": "execute_result"
    }
   ],
   "source": [
    "capital = modelo[\"china\"] - modelo[\"pequim\"]  +  modelo[\"japão\"]\n",
    "modelo.most_similar(capital)"
   ]
  },
  {
   "cell_type": "code",
   "execution_count": 76,
   "id": "65ddbfe1-6455-4939-9db4-8fa987b0ea6d",
   "metadata": {},
   "outputs": [
    {
     "data": {
      "text/plain": [
       "[('índia', 0.6186599135398865),\n",
       " ('etiópia', 0.6139929890632629),\n",
       " ('áfrica', 0.6103512048721313),\n",
       " ('japão', 0.6059579849243164),\n",
       " ('chile', 0.605084240436554),\n",
       " ('ocidente', 0.6039535999298096),\n",
       " ('iémen', 0.6015617251396179),\n",
       " ('colômbia', 0.5934122800827026),\n",
       " ('iacúitia', 0.5883790850639343),\n",
       " ('bolívia', 0.5836228728294373)]"
      ]
     },
     "execution_count": 76,
     "metadata": {},
     "output_type": "execute_result"
    }
   ],
   "source": [
    "modelo.most_similar(positive=[\"china\", \"brasil\"], negative=[\"shangai\"])"
   ]
  },
  {
   "cell_type": "code",
   "execution_count": 78,
   "id": "a012af7d-2d71-41f8-af6f-33b381737711",
   "metadata": {},
   "outputs": [
    {
     "data": {
      "text/plain": [
       "'cadeira'"
      ]
     },
     "execution_count": 78,
     "metadata": {},
     "output_type": "execute_result"
    }
   ],
   "source": [
    "modelo.doesnt_match( [\"cachorro\", \"gato\", \"papagaio\", \"peixe\", \"cadeira\"] )"
   ]
  },
  {
   "cell_type": "code",
   "execution_count": null,
   "id": "ba38fc46-8ca8-4202-a2be-58c312053b72",
   "metadata": {},
   "outputs": [],
   "source": []
  }
 ],
 "metadata": {
  "kernelspec": {
   "display_name": "Python [conda env:base] *",
   "language": "python",
   "name": "conda-base-py"
  },
  "language_info": {
   "codemirror_mode": {
    "name": "ipython",
    "version": 3
   },
   "file_extension": ".py",
   "mimetype": "text/x-python",
   "name": "python",
   "nbconvert_exporter": "python",
   "pygments_lexer": "ipython3",
   "version": "3.12.7"
  }
 },
 "nbformat": 4,
 "nbformat_minor": 5
}
